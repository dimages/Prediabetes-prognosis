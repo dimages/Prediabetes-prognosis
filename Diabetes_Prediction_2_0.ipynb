{
  "nbformat": 4,
  "nbformat_minor": 0,
  "metadata": {
    "colab": {
      "provenance": [],
      "gpuType": "T4",
      "authorship_tag": "ABX9TyPD1Med3dT3RXV4j9PgRmzc",
      "include_colab_link": true
    },
    "kernelspec": {
      "name": "python3",
      "display_name": "Python 3"
    },
    "language_info": {
      "name": "python"
    },
    "accelerator": "GPU"
  },
  "cells": [
    {
      "cell_type": "markdown",
      "metadata": {
        "id": "view-in-github",
        "colab_type": "text"
      },
      "source": [
        "<a href=\"https://colab.research.google.com/github/dimages/Prediabetes-prognosis/blob/main/Diabetes_Prediction_2_0.ipynb\" target=\"_parent\"><img src=\"https://colab.research.google.com/assets/colab-badge.svg\" alt=\"Open In Colab\"/></a>"
      ]
    },
    {
      "cell_type": "code",
      "execution_count": 2,
      "metadata": {
        "id": "2NJ7uySRIe7U"
      },
      "outputs": [],
      "source": [
        "import numpy as np\n",
        "import pandas as pd\n",
        "import matplotlib.pyplot as plt\n",
        "import seaborn as sns\n",
        "%matplotlib inline\n",
        "from google.colab import drive\n",
        "import plotly.express as px\n",
        "from joblib import dump\n",
        "from sklearn.model_selection import train_test_split, cross_val_predict\n",
        "from imblearn.over_sampling import SMOTENC\n",
        "from sklearn.linear_model import LogisticRegression\n",
        "from sklearn.ensemble import RandomForestClassifier, AdaBoostClassifier\n",
        "from sklearn.svm import SVC\n",
        "from sklearn.model_selection import GridSearchCV\n",
        "import imblearn\n",
        "import warnings\n",
        "from sklearn.neighbors import KNeighborsClassifier\n",
        "from sklearn.tree import DecisionTreeClassifier\n",
        "from sklearn import metrics\n",
        "from sklearn.metrics import classification_report, confusion_matrix\n",
        "from imblearn.over_sampling import SMOTENC\n",
        "from sklearn.decomposition import PCA\n",
        "from sklearn.metrics import accuracy_score, recall_score\n",
        "from sklearn.metrics import roc_auc_score\n",
        "from sklearn.metrics import roc_curve\n",
        "import joblib\n",
        "\n",
        "warnings.filterwarnings('ignore')\n",
        "plt.style.use('fivethirtyeight')"
      ]
    },
    {
      "cell_type": "code",
      "source": [
        "!pip install -U scikit-learn"
      ],
      "metadata": {
        "colab": {
          "base_uri": "https://localhost:8080/",
          "height": 376
        },
        "id": "ngwRWFWSRGum",
        "outputId": "b359d89f-636d-4f63-e5a9-cc998aca87ff"
      },
      "execution_count": 3,
      "outputs": [
        {
          "output_type": "stream",
          "name": "stdout",
          "text": [
            "Requirement already satisfied: scikit-learn in /usr/local/lib/python3.10/dist-packages (1.2.2)\n",
            "Collecting scikit-learn\n",
            "  Downloading scikit_learn-1.3.0-cp310-cp310-manylinux_2_17_x86_64.manylinux2014_x86_64.whl (10.8 MB)\n",
            "\u001b[2K     \u001b[90m━━━━━━━━━━━━━━━━━━━━━━━━━━━━━━━━━━━━━━━━\u001b[0m \u001b[32m10.8/10.8 MB\u001b[0m \u001b[31m93.0 MB/s\u001b[0m eta \u001b[36m0:00:00\u001b[0m\n",
            "\u001b[?25hRequirement already satisfied: numpy>=1.17.3 in /usr/local/lib/python3.10/dist-packages (from scikit-learn) (1.22.4)\n",
            "Requirement already satisfied: scipy>=1.5.0 in /usr/local/lib/python3.10/dist-packages (from scikit-learn) (1.10.1)\n",
            "Requirement already satisfied: joblib>=1.1.1 in /usr/local/lib/python3.10/dist-packages (from scikit-learn) (1.3.1)\n",
            "Requirement already satisfied: threadpoolctl>=2.0.0 in /usr/local/lib/python3.10/dist-packages (from scikit-learn) (3.1.0)\n",
            "Installing collected packages: scikit-learn\n",
            "  Attempting uninstall: scikit-learn\n",
            "    Found existing installation: scikit-learn 1.2.2\n",
            "    Uninstalling scikit-learn-1.2.2:\n",
            "      Successfully uninstalled scikit-learn-1.2.2\n",
            "Successfully installed scikit-learn-1.3.0\n"
          ]
        },
        {
          "output_type": "display_data",
          "data": {
            "application/vnd.colab-display-data+json": {
              "pip_warning": {
                "packages": [
                  "sklearn"
                ]
              }
            }
          },
          "metadata": {}
        }
      ]
    },
    {
      "cell_type": "code",
      "source": [
        "drive.mount('/content/drive')"
      ],
      "metadata": {
        "id": "LhfjD69wb6hv",
        "colab": {
          "base_uri": "https://localhost:8080/"
        },
        "outputId": "d716f62f-4c77-4f48-ea4b-d2125a31ab46"
      },
      "execution_count": 4,
      "outputs": [
        {
          "output_type": "stream",
          "name": "stdout",
          "text": [
            "Mounted at /content/drive\n"
          ]
        }
      ]
    },
    {
      "cell_type": "code",
      "source": [
        "data = pd.read_csv('/content/drive/MyDrive/diabetes_dataset__2019.csv')\n",
        "\n",
        "data.head(10)"
      ],
      "metadata": {
        "colab": {
          "base_uri": "https://localhost:8080/",
          "height": 531
        },
        "id": "y4zc9SkmcY3f",
        "outputId": "87754ef3-c529-4d84-90f4-aad6c5af06e5"
      },
      "execution_count": 5,
      "outputs": [
        {
          "output_type": "execute_result",
          "data": {
            "text/plain": [
              "            Age Gender Family_Diabetes highBP      PhysicallyActive   BMI  \\\n",
              "0         50-59   Male              no    yes        one hr or more  39.0   \n",
              "1         50-59   Male              no    yes  less than half an hr  28.0   \n",
              "2         40-49   Male              no     no        one hr or more  24.0   \n",
              "3         50-59   Male              no     no        one hr or more  23.0   \n",
              "4         40-49   Male              no     no  less than half an hr  27.0   \n",
              "5         40-49   Male              no    yes                  none  21.0   \n",
              "6  less than 40   Male              no     no        one hr or more  24.0   \n",
              "7  less than 40   Male              no     no  less than half an hr  20.0   \n",
              "8         40-49   Male             yes     no        one hr or more  23.0   \n",
              "9  less than 40   Male              no     no  more than half an hr  20.0   \n",
              "\n",
              "  Smoking Alcohol  Sleep  SoundSleep RegularMedicine      JunkFood     Stress  \\\n",
              "0      no      no      8           6              no  occasionally  sometimes   \n",
              "1      no      no      8           6             yes    very often  sometimes   \n",
              "2      no      no      6           6              no  occasionally  sometimes   \n",
              "3      no      no      8           6              no  occasionally  sometimes   \n",
              "4      no      no      8           8              no  occasionally  sometimes   \n",
              "5      no     yes     10          10              no  occasionally  sometimes   \n",
              "6      no      no      8           8              no  occasionally  sometimes   \n",
              "7      no      no      7           7             yes  occasionally  sometimes   \n",
              "8      no      no      7           7              no  occasionally  sometimes   \n",
              "9      no      no      8           8               o  occasionally  sometimes   \n",
              "\n",
              "  BPLevel  Pregancies Pdiabetes UriationFreq Diabetic  \n",
              "0    high         0.0         0     not much       no  \n",
              "1  normal         0.0         0     not much       no  \n",
              "2  normal         0.0         0     not much       no  \n",
              "3  normal         0.0         0     not much       no  \n",
              "4  normal         0.0         0     not much       no  \n",
              "5    high         0.0         0     not much      yes  \n",
              "6  normal         0.0         0     not much       no  \n",
              "7     low         0.0         0     not much       no  \n",
              "8  normal         0.0         0     not much       no  \n",
              "9  normal         0.0         0     not much       no  "
            ],
            "text/html": [
              "\n",
              "\n",
              "  <div id=\"df-dbb7d1ee-bbf7-4dfa-a48c-4ca003f9099b\">\n",
              "    <div class=\"colab-df-container\">\n",
              "      <div>\n",
              "<style scoped>\n",
              "    .dataframe tbody tr th:only-of-type {\n",
              "        vertical-align: middle;\n",
              "    }\n",
              "\n",
              "    .dataframe tbody tr th {\n",
              "        vertical-align: top;\n",
              "    }\n",
              "\n",
              "    .dataframe thead th {\n",
              "        text-align: right;\n",
              "    }\n",
              "</style>\n",
              "<table border=\"1\" class=\"dataframe\">\n",
              "  <thead>\n",
              "    <tr style=\"text-align: right;\">\n",
              "      <th></th>\n",
              "      <th>Age</th>\n",
              "      <th>Gender</th>\n",
              "      <th>Family_Diabetes</th>\n",
              "      <th>highBP</th>\n",
              "      <th>PhysicallyActive</th>\n",
              "      <th>BMI</th>\n",
              "      <th>Smoking</th>\n",
              "      <th>Alcohol</th>\n",
              "      <th>Sleep</th>\n",
              "      <th>SoundSleep</th>\n",
              "      <th>RegularMedicine</th>\n",
              "      <th>JunkFood</th>\n",
              "      <th>Stress</th>\n",
              "      <th>BPLevel</th>\n",
              "      <th>Pregancies</th>\n",
              "      <th>Pdiabetes</th>\n",
              "      <th>UriationFreq</th>\n",
              "      <th>Diabetic</th>\n",
              "    </tr>\n",
              "  </thead>\n",
              "  <tbody>\n",
              "    <tr>\n",
              "      <th>0</th>\n",
              "      <td>50-59</td>\n",
              "      <td>Male</td>\n",
              "      <td>no</td>\n",
              "      <td>yes</td>\n",
              "      <td>one hr or more</td>\n",
              "      <td>39.0</td>\n",
              "      <td>no</td>\n",
              "      <td>no</td>\n",
              "      <td>8</td>\n",
              "      <td>6</td>\n",
              "      <td>no</td>\n",
              "      <td>occasionally</td>\n",
              "      <td>sometimes</td>\n",
              "      <td>high</td>\n",
              "      <td>0.0</td>\n",
              "      <td>0</td>\n",
              "      <td>not much</td>\n",
              "      <td>no</td>\n",
              "    </tr>\n",
              "    <tr>\n",
              "      <th>1</th>\n",
              "      <td>50-59</td>\n",
              "      <td>Male</td>\n",
              "      <td>no</td>\n",
              "      <td>yes</td>\n",
              "      <td>less than half an hr</td>\n",
              "      <td>28.0</td>\n",
              "      <td>no</td>\n",
              "      <td>no</td>\n",
              "      <td>8</td>\n",
              "      <td>6</td>\n",
              "      <td>yes</td>\n",
              "      <td>very often</td>\n",
              "      <td>sometimes</td>\n",
              "      <td>normal</td>\n",
              "      <td>0.0</td>\n",
              "      <td>0</td>\n",
              "      <td>not much</td>\n",
              "      <td>no</td>\n",
              "    </tr>\n",
              "    <tr>\n",
              "      <th>2</th>\n",
              "      <td>40-49</td>\n",
              "      <td>Male</td>\n",
              "      <td>no</td>\n",
              "      <td>no</td>\n",
              "      <td>one hr or more</td>\n",
              "      <td>24.0</td>\n",
              "      <td>no</td>\n",
              "      <td>no</td>\n",
              "      <td>6</td>\n",
              "      <td>6</td>\n",
              "      <td>no</td>\n",
              "      <td>occasionally</td>\n",
              "      <td>sometimes</td>\n",
              "      <td>normal</td>\n",
              "      <td>0.0</td>\n",
              "      <td>0</td>\n",
              "      <td>not much</td>\n",
              "      <td>no</td>\n",
              "    </tr>\n",
              "    <tr>\n",
              "      <th>3</th>\n",
              "      <td>50-59</td>\n",
              "      <td>Male</td>\n",
              "      <td>no</td>\n",
              "      <td>no</td>\n",
              "      <td>one hr or more</td>\n",
              "      <td>23.0</td>\n",
              "      <td>no</td>\n",
              "      <td>no</td>\n",
              "      <td>8</td>\n",
              "      <td>6</td>\n",
              "      <td>no</td>\n",
              "      <td>occasionally</td>\n",
              "      <td>sometimes</td>\n",
              "      <td>normal</td>\n",
              "      <td>0.0</td>\n",
              "      <td>0</td>\n",
              "      <td>not much</td>\n",
              "      <td>no</td>\n",
              "    </tr>\n",
              "    <tr>\n",
              "      <th>4</th>\n",
              "      <td>40-49</td>\n",
              "      <td>Male</td>\n",
              "      <td>no</td>\n",
              "      <td>no</td>\n",
              "      <td>less than half an hr</td>\n",
              "      <td>27.0</td>\n",
              "      <td>no</td>\n",
              "      <td>no</td>\n",
              "      <td>8</td>\n",
              "      <td>8</td>\n",
              "      <td>no</td>\n",
              "      <td>occasionally</td>\n",
              "      <td>sometimes</td>\n",
              "      <td>normal</td>\n",
              "      <td>0.0</td>\n",
              "      <td>0</td>\n",
              "      <td>not much</td>\n",
              "      <td>no</td>\n",
              "    </tr>\n",
              "    <tr>\n",
              "      <th>5</th>\n",
              "      <td>40-49</td>\n",
              "      <td>Male</td>\n",
              "      <td>no</td>\n",
              "      <td>yes</td>\n",
              "      <td>none</td>\n",
              "      <td>21.0</td>\n",
              "      <td>no</td>\n",
              "      <td>yes</td>\n",
              "      <td>10</td>\n",
              "      <td>10</td>\n",
              "      <td>no</td>\n",
              "      <td>occasionally</td>\n",
              "      <td>sometimes</td>\n",
              "      <td>high</td>\n",
              "      <td>0.0</td>\n",
              "      <td>0</td>\n",
              "      <td>not much</td>\n",
              "      <td>yes</td>\n",
              "    </tr>\n",
              "    <tr>\n",
              "      <th>6</th>\n",
              "      <td>less than 40</td>\n",
              "      <td>Male</td>\n",
              "      <td>no</td>\n",
              "      <td>no</td>\n",
              "      <td>one hr or more</td>\n",
              "      <td>24.0</td>\n",
              "      <td>no</td>\n",
              "      <td>no</td>\n",
              "      <td>8</td>\n",
              "      <td>8</td>\n",
              "      <td>no</td>\n",
              "      <td>occasionally</td>\n",
              "      <td>sometimes</td>\n",
              "      <td>normal</td>\n",
              "      <td>0.0</td>\n",
              "      <td>0</td>\n",
              "      <td>not much</td>\n",
              "      <td>no</td>\n",
              "    </tr>\n",
              "    <tr>\n",
              "      <th>7</th>\n",
              "      <td>less than 40</td>\n",
              "      <td>Male</td>\n",
              "      <td>no</td>\n",
              "      <td>no</td>\n",
              "      <td>less than half an hr</td>\n",
              "      <td>20.0</td>\n",
              "      <td>no</td>\n",
              "      <td>no</td>\n",
              "      <td>7</td>\n",
              "      <td>7</td>\n",
              "      <td>yes</td>\n",
              "      <td>occasionally</td>\n",
              "      <td>sometimes</td>\n",
              "      <td>low</td>\n",
              "      <td>0.0</td>\n",
              "      <td>0</td>\n",
              "      <td>not much</td>\n",
              "      <td>no</td>\n",
              "    </tr>\n",
              "    <tr>\n",
              "      <th>8</th>\n",
              "      <td>40-49</td>\n",
              "      <td>Male</td>\n",
              "      <td>yes</td>\n",
              "      <td>no</td>\n",
              "      <td>one hr or more</td>\n",
              "      <td>23.0</td>\n",
              "      <td>no</td>\n",
              "      <td>no</td>\n",
              "      <td>7</td>\n",
              "      <td>7</td>\n",
              "      <td>no</td>\n",
              "      <td>occasionally</td>\n",
              "      <td>sometimes</td>\n",
              "      <td>normal</td>\n",
              "      <td>0.0</td>\n",
              "      <td>0</td>\n",
              "      <td>not much</td>\n",
              "      <td>no</td>\n",
              "    </tr>\n",
              "    <tr>\n",
              "      <th>9</th>\n",
              "      <td>less than 40</td>\n",
              "      <td>Male</td>\n",
              "      <td>no</td>\n",
              "      <td>no</td>\n",
              "      <td>more than half an hr</td>\n",
              "      <td>20.0</td>\n",
              "      <td>no</td>\n",
              "      <td>no</td>\n",
              "      <td>8</td>\n",
              "      <td>8</td>\n",
              "      <td>o</td>\n",
              "      <td>occasionally</td>\n",
              "      <td>sometimes</td>\n",
              "      <td>normal</td>\n",
              "      <td>0.0</td>\n",
              "      <td>0</td>\n",
              "      <td>not much</td>\n",
              "      <td>no</td>\n",
              "    </tr>\n",
              "  </tbody>\n",
              "</table>\n",
              "</div>\n",
              "      <button class=\"colab-df-convert\" onclick=\"convertToInteractive('df-dbb7d1ee-bbf7-4dfa-a48c-4ca003f9099b')\"\n",
              "              title=\"Convert this dataframe to an interactive table.\"\n",
              "              style=\"display:none;\">\n",
              "\n",
              "  <svg xmlns=\"http://www.w3.org/2000/svg\" height=\"24px\"viewBox=\"0 0 24 24\"\n",
              "       width=\"24px\">\n",
              "    <path d=\"M0 0h24v24H0V0z\" fill=\"none\"/>\n",
              "    <path d=\"M18.56 5.44l.94 2.06.94-2.06 2.06-.94-2.06-.94-.94-2.06-.94 2.06-2.06.94zm-11 1L8.5 8.5l.94-2.06 2.06-.94-2.06-.94L8.5 2.5l-.94 2.06-2.06.94zm10 10l.94 2.06.94-2.06 2.06-.94-2.06-.94-.94-2.06-.94 2.06-2.06.94z\"/><path d=\"M17.41 7.96l-1.37-1.37c-.4-.4-.92-.59-1.43-.59-.52 0-1.04.2-1.43.59L10.3 9.45l-7.72 7.72c-.78.78-.78 2.05 0 2.83L4 21.41c.39.39.9.59 1.41.59.51 0 1.02-.2 1.41-.59l7.78-7.78 2.81-2.81c.8-.78.8-2.07 0-2.86zM5.41 20L4 18.59l7.72-7.72 1.47 1.35L5.41 20z\"/>\n",
              "  </svg>\n",
              "      </button>\n",
              "\n",
              "\n",
              "\n",
              "    <div id=\"df-e41b3b79-8f99-4ce8-a028-75beb713cd05\">\n",
              "      <button class=\"colab-df-quickchart\" onclick=\"quickchart('df-e41b3b79-8f99-4ce8-a028-75beb713cd05')\"\n",
              "              title=\"Suggest charts.\"\n",
              "              style=\"display:none;\">\n",
              "\n",
              "<svg xmlns=\"http://www.w3.org/2000/svg\" height=\"24px\"viewBox=\"0 0 24 24\"\n",
              "     width=\"24px\">\n",
              "    <g>\n",
              "        <path d=\"M19 3H5c-1.1 0-2 .9-2 2v14c0 1.1.9 2 2 2h14c1.1 0 2-.9 2-2V5c0-1.1-.9-2-2-2zM9 17H7v-7h2v7zm4 0h-2V7h2v10zm4 0h-2v-4h2v4z\"/>\n",
              "    </g>\n",
              "</svg>\n",
              "      </button>\n",
              "    </div>\n",
              "\n",
              "<style>\n",
              "  .colab-df-quickchart {\n",
              "    background-color: #E8F0FE;\n",
              "    border: none;\n",
              "    border-radius: 50%;\n",
              "    cursor: pointer;\n",
              "    display: none;\n",
              "    fill: #1967D2;\n",
              "    height: 32px;\n",
              "    padding: 0 0 0 0;\n",
              "    width: 32px;\n",
              "  }\n",
              "\n",
              "  .colab-df-quickchart:hover {\n",
              "    background-color: #E2EBFA;\n",
              "    box-shadow: 0px 1px 2px rgba(60, 64, 67, 0.3), 0px 1px 3px 1px rgba(60, 64, 67, 0.15);\n",
              "    fill: #174EA6;\n",
              "  }\n",
              "\n",
              "  [theme=dark] .colab-df-quickchart {\n",
              "    background-color: #3B4455;\n",
              "    fill: #D2E3FC;\n",
              "  }\n",
              "\n",
              "  [theme=dark] .colab-df-quickchart:hover {\n",
              "    background-color: #434B5C;\n",
              "    box-shadow: 0px 1px 3px 1px rgba(0, 0, 0, 0.15);\n",
              "    filter: drop-shadow(0px 1px 2px rgba(0, 0, 0, 0.3));\n",
              "    fill: #FFFFFF;\n",
              "  }\n",
              "</style>\n",
              "\n",
              "    <script>\n",
              "      async function quickchart(key) {\n",
              "        const containerElement = document.querySelector('#' + key);\n",
              "        const charts = await google.colab.kernel.invokeFunction(\n",
              "            'suggestCharts', [key], {});\n",
              "      }\n",
              "    </script>\n",
              "\n",
              "      <script>\n",
              "\n",
              "function displayQuickchartButton(domScope) {\n",
              "  let quickchartButtonEl =\n",
              "    domScope.querySelector('#df-e41b3b79-8f99-4ce8-a028-75beb713cd05 button.colab-df-quickchart');\n",
              "  quickchartButtonEl.style.display =\n",
              "    google.colab.kernel.accessAllowed ? 'block' : 'none';\n",
              "}\n",
              "\n",
              "        displayQuickchartButton(document);\n",
              "      </script>\n",
              "      <style>\n",
              "    .colab-df-container {\n",
              "      display:flex;\n",
              "      flex-wrap:wrap;\n",
              "      gap: 12px;\n",
              "    }\n",
              "\n",
              "    .colab-df-convert {\n",
              "      background-color: #E8F0FE;\n",
              "      border: none;\n",
              "      border-radius: 50%;\n",
              "      cursor: pointer;\n",
              "      display: none;\n",
              "      fill: #1967D2;\n",
              "      height: 32px;\n",
              "      padding: 0 0 0 0;\n",
              "      width: 32px;\n",
              "    }\n",
              "\n",
              "    .colab-df-convert:hover {\n",
              "      background-color: #E2EBFA;\n",
              "      box-shadow: 0px 1px 2px rgba(60, 64, 67, 0.3), 0px 1px 3px 1px rgba(60, 64, 67, 0.15);\n",
              "      fill: #174EA6;\n",
              "    }\n",
              "\n",
              "    [theme=dark] .colab-df-convert {\n",
              "      background-color: #3B4455;\n",
              "      fill: #D2E3FC;\n",
              "    }\n",
              "\n",
              "    [theme=dark] .colab-df-convert:hover {\n",
              "      background-color: #434B5C;\n",
              "      box-shadow: 0px 1px 3px 1px rgba(0, 0, 0, 0.15);\n",
              "      filter: drop-shadow(0px 1px 2px rgba(0, 0, 0, 0.3));\n",
              "      fill: #FFFFFF;\n",
              "    }\n",
              "  </style>\n",
              "\n",
              "      <script>\n",
              "        const buttonEl =\n",
              "          document.querySelector('#df-dbb7d1ee-bbf7-4dfa-a48c-4ca003f9099b button.colab-df-convert');\n",
              "        buttonEl.style.display =\n",
              "          google.colab.kernel.accessAllowed ? 'block' : 'none';\n",
              "\n",
              "        async function convertToInteractive(key) {\n",
              "          const element = document.querySelector('#df-dbb7d1ee-bbf7-4dfa-a48c-4ca003f9099b');\n",
              "          const dataTable =\n",
              "            await google.colab.kernel.invokeFunction('convertToInteractive',\n",
              "                                                     [key], {});\n",
              "          if (!dataTable) return;\n",
              "\n",
              "          const docLinkHtml = 'Like what you see? Visit the ' +\n",
              "            '<a target=\"_blank\" href=https://colab.research.google.com/notebooks/data_table.ipynb>data table notebook</a>'\n",
              "            + ' to learn more about interactive tables.';\n",
              "          element.innerHTML = '';\n",
              "          dataTable['output_type'] = 'display_data';\n",
              "          await google.colab.output.renderOutput(dataTable, element);\n",
              "          const docLink = document.createElement('div');\n",
              "          docLink.innerHTML = docLinkHtml;\n",
              "          element.appendChild(docLink);\n",
              "        }\n",
              "      </script>\n",
              "    </div>\n",
              "  </div>\n"
            ]
          },
          "metadata": {},
          "execution_count": 5
        }
      ]
    },
    {
      "cell_type": "code",
      "source": [
        "data.info()"
      ],
      "metadata": {
        "colab": {
          "base_uri": "https://localhost:8080/"
        },
        "id": "mTfCVjGydf6H",
        "outputId": "fe0a1012-5739-46ef-c50e-2babe596ee0d"
      },
      "execution_count": 6,
      "outputs": [
        {
          "output_type": "stream",
          "name": "stdout",
          "text": [
            "<class 'pandas.core.frame.DataFrame'>\n",
            "RangeIndex: 952 entries, 0 to 951\n",
            "Data columns (total 18 columns):\n",
            " #   Column            Non-Null Count  Dtype  \n",
            "---  ------            --------------  -----  \n",
            " 0   Age               952 non-null    object \n",
            " 1   Gender            952 non-null    object \n",
            " 2   Family_Diabetes   952 non-null    object \n",
            " 3   highBP            952 non-null    object \n",
            " 4   PhysicallyActive  952 non-null    object \n",
            " 5   BMI               948 non-null    float64\n",
            " 6   Smoking           952 non-null    object \n",
            " 7   Alcohol           952 non-null    object \n",
            " 8   Sleep             952 non-null    int64  \n",
            " 9   SoundSleep        952 non-null    int64  \n",
            " 10  RegularMedicine   952 non-null    object \n",
            " 11  JunkFood          952 non-null    object \n",
            " 12  Stress            952 non-null    object \n",
            " 13  BPLevel           952 non-null    object \n",
            " 14  Pregancies        910 non-null    float64\n",
            " 15  Pdiabetes         951 non-null    object \n",
            " 16  UriationFreq      952 non-null    object \n",
            " 17  Diabetic          951 non-null    object \n",
            "dtypes: float64(2), int64(2), object(14)\n",
            "memory usage: 134.0+ KB\n"
          ]
        }
      ]
    },
    {
      "cell_type": "markdown",
      "source": [
        "Этот набор данных включает 17 атрибутов и объект прогнозирования: диабетик. Среди всех 17 предикторов четыре являются количественными: ИМТ, сон, здоровый сон и беременность. Остальные 13 являются качественными, более подробный обзор данных о потенциальных проблемах представлен ниже.\n",
        "\n",
        "Подробное описание каждого предиктора приведено ниже:\n",
        "\n",
        "Возраст: числовой, возраст пациента\n",
        "\n",
        "Пол: категориальный, два уровня, пол пациента\n",
        "\n",
        "Family_Diabetes: категориальный, два уровня, есть ли в семье пациента случаи заболевания диабетом.\n",
        "\n",
        "HighBP: категориальный, два уровня, есть ли у пациента высокое кровяное давление\n",
        "\n",
        "Физически активный: категориальный, четыре уровня, количество времени, которое пациент ежедневно уделяет физическим упражнениям.\n",
        "\n",
        "ИМТ: числовой, индекс ИМТ тела пациента\n",
        "\n",
        "Курение: категорическое, двухуровневое, независимо от того, курит пациент или нет\n",
        "\n",
        "Алкоголь: категорический, двухуровневый, независимо от того, употребляет пациент алкоголь или нет.\n",
        "\n",
        "Сон: числовое значение, среднее количество времени, которое пациент спит каждый день (в часах).\n",
        "\n",
        "SoundSleep: числовое значение, количество времени, в течение которого пациент находится в режиме SoundSleep каждый день в среднем (в часах).\n",
        "\n",
        "RegularMedicine: категориальный, два уровня, регулярно ли пациент использует лекарства в повседневной жизни.\n",
        "\n",
        "Нездоровая пища: категориально, четыре уровня, как часто пациент ест нездоровую пищу\n",
        "\n",
        "Стресс: категориальный, четыре уровня, как часто пациент испытывает стресс\n",
        "\n",
        "Уровень АД: категориальный, три уровня, низкий, нормальный или высокий\n",
        "\n",
        "Беременности: численно, количество беременностей у пациентки\n",
        "\n",
        "Сахарный диабет: категориальный, двухуровневый, был ли у пациентки гестационный диабет во время беременности\n",
        "\n",
        "UriationFreq: категориальный, два уровня, высокая частота мочеиспускания у пациента.\n",
        "\n",
        "Диабетический: категорический, двухуровневый, заразился ли пациент диабетом"
      ],
      "metadata": {
        "id": "CRWtSF8cnkkk"
      }
    },
    {
      "cell_type": "code",
      "source": [
        "for col in data.columns:\n",
        "    print(col)\n",
        "    print(data[col].value_counts())\n",
        "    print(f'-'*20)"
      ],
      "metadata": {
        "colab": {
          "base_uri": "https://localhost:8080/"
        },
        "id": "sVmDOrZBd_T2",
        "outputId": "d02ec4ac-b7cc-4616-a8ff-0d10d229ceb4"
      },
      "execution_count": 7,
      "outputs": [
        {
          "output_type": "stream",
          "name": "stdout",
          "text": [
            "Age\n",
            "less than 40    488\n",
            "40-49           164\n",
            "50-59           156\n",
            "60 or older     144\n",
            "Name: Age, dtype: int64\n",
            "--------------------\n",
            "Gender\n",
            "Male      580\n",
            "Female    372\n",
            "Name: Gender, dtype: int64\n",
            "--------------------\n",
            "Family_Diabetes\n",
            "no     498\n",
            "yes    454\n",
            "Name: Family_Diabetes, dtype: int64\n",
            "--------------------\n",
            "highBP\n",
            "no     724\n",
            "yes    228\n",
            "Name: highBP, dtype: int64\n",
            "--------------------\n",
            "PhysicallyActive\n",
            "less than half an hr    336\n",
            "more than half an hr    272\n",
            "one hr or more          212\n",
            "none                    132\n",
            "Name: PhysicallyActive, dtype: int64\n",
            "--------------------\n",
            "BMI\n",
            "24.0    111\n",
            "21.0     88\n",
            "23.0     76\n",
            "28.0     71\n",
            "26.0     66\n",
            "33.0     64\n",
            "27.0     63\n",
            "22.0     58\n",
            "20.0     48\n",
            "19.0     36\n",
            "25.0     34\n",
            "30.0     33\n",
            "18.0     32\n",
            "29.0     28\n",
            "38.0     28\n",
            "36.0     20\n",
            "17.0     16\n",
            "32.0     16\n",
            "31.0     16\n",
            "34.0     12\n",
            "35.0     12\n",
            "15.0      8\n",
            "39.0      4\n",
            "40.0      4\n",
            "42.0      3\n",
            "45.0      1\n",
            "Name: BMI, dtype: int64\n",
            "--------------------\n",
            "Smoking\n",
            "no     844\n",
            "yes    108\n",
            "Name: Smoking, dtype: int64\n",
            "--------------------\n",
            "Alcohol\n",
            "no     760\n",
            "yes    192\n",
            "Name: Alcohol, dtype: int64\n",
            "--------------------\n",
            "Sleep\n",
            "7     264\n",
            "8     256\n",
            "6     256\n",
            "5      68\n",
            "9      48\n",
            "4      32\n",
            "10     24\n",
            "11      4\n",
            "Name: Sleep, dtype: int64\n",
            "--------------------\n",
            "SoundSleep\n",
            "6     228\n",
            "4     188\n",
            "5     156\n",
            "8     120\n",
            "7     104\n",
            "3      68\n",
            "2      44\n",
            "10     16\n",
            "9      16\n",
            "11      4\n",
            "1       4\n",
            "0       4\n",
            "Name: SoundSleep, dtype: int64\n",
            "--------------------\n",
            "RegularMedicine\n",
            "no     615\n",
            "yes    336\n",
            "o        1\n",
            "Name: RegularMedicine, dtype: int64\n",
            "--------------------\n",
            "JunkFood\n",
            "occasionally    672\n",
            "often           184\n",
            "very often       52\n",
            "always           44\n",
            "Name: JunkFood, dtype: int64\n",
            "--------------------\n",
            "Stress\n",
            "sometimes     564\n",
            "very often    164\n",
            "not at all    136\n",
            "always         88\n",
            "Name: Stress, dtype: int64\n",
            "--------------------\n",
            "BPLevel\n",
            "normal     707\n",
            "high       211\n",
            "low         25\n",
            "High         5\n",
            "Low          3\n",
            "normal       1\n",
            "Name: BPLevel, dtype: int64\n",
            "--------------------\n",
            "Pregancies\n",
            "0.0    754\n",
            "2.0     64\n",
            "3.0     60\n",
            "1.0     28\n",
            "4.0      4\n",
            "Name: Pregancies, dtype: int64\n",
            "--------------------\n",
            "Pdiabetes\n",
            "0      936\n",
            "yes     14\n",
            "no       1\n",
            "Name: Pdiabetes, dtype: int64\n",
            "--------------------\n",
            "UriationFreq\n",
            "not much       664\n",
            "quite often    288\n",
            "Name: UriationFreq, dtype: int64\n",
            "--------------------\n",
            "Diabetic\n",
            "no     684\n",
            "yes    266\n",
            " no      1\n",
            "Name: Diabetic, dtype: int64\n",
            "--------------------\n"
          ]
        }
      ]
    },
    {
      "cell_type": "code",
      "source": [
        "# Создание датафрейма из словаря\n",
        "df = pd.DataFrame.from_dict(data)\n",
        "\n",
        "# Перебор столбцов и вывод уникальных значений\n",
        "for column in df.columns:\n",
        "    unique_values = df[column].unique()\n",
        "    count = len(unique_values)\n",
        "\n",
        "    print(f\"Количество уникальных значений в столбце '{column}': {count}\")\n",
        "    print(f\"Уникальные значения в столбце '{column}':\")\n",
        "    print(unique_values)\n",
        "    print()"
      ],
      "metadata": {
        "id": "Tuj2AS2p6W-7",
        "outputId": "978ae6ab-eaf8-4077-f93e-615cc6b43966",
        "colab": {
          "base_uri": "https://localhost:8080/"
        }
      },
      "execution_count": 8,
      "outputs": [
        {
          "output_type": "stream",
          "name": "stdout",
          "text": [
            "Количество уникальных значений в столбце 'Age': 4\n",
            "Уникальные значения в столбце 'Age':\n",
            "['50-59' '40-49' 'less than 40' '60 or older']\n",
            "\n",
            "Количество уникальных значений в столбце 'Gender': 2\n",
            "Уникальные значения в столбце 'Gender':\n",
            "['Male' 'Female']\n",
            "\n",
            "Количество уникальных значений в столбце 'Family_Diabetes': 2\n",
            "Уникальные значения в столбце 'Family_Diabetes':\n",
            "['no' 'yes']\n",
            "\n",
            "Количество уникальных значений в столбце 'highBP': 2\n",
            "Уникальные значения в столбце 'highBP':\n",
            "['yes' 'no']\n",
            "\n",
            "Количество уникальных значений в столбце 'PhysicallyActive': 4\n",
            "Уникальные значения в столбце 'PhysicallyActive':\n",
            "['one hr or more' 'less than half an hr' 'none' 'more than half an hr']\n",
            "\n",
            "Количество уникальных значений в столбце 'BMI': 27\n",
            "Уникальные значения в столбце 'BMI':\n",
            "[39. 28. 24. 23. 27. 21. 20. 26. 22. 15. 34. 30. 29. 18. 32. 31. 36. 38.\n",
            " 40. 35. 19. 33. 17. 25. nan 42. 45.]\n",
            "\n",
            "Количество уникальных значений в столбце 'Smoking': 2\n",
            "Уникальные значения в столбце 'Smoking':\n",
            "['no' 'yes']\n",
            "\n",
            "Количество уникальных значений в столбце 'Alcohol': 2\n",
            "Уникальные значения в столбце 'Alcohol':\n",
            "['no' 'yes']\n",
            "\n",
            "Количество уникальных значений в столбце 'Sleep': 8\n",
            "Уникальные значения в столбце 'Sleep':\n",
            "[ 8  6 10  7 11  9  4  5]\n",
            "\n",
            "Количество уникальных значений в столбце 'SoundSleep': 12\n",
            "Уникальные значения в столбце 'SoundSleep':\n",
            "[ 6  8 10  7 11  4  9  5  3  2  1  0]\n",
            "\n",
            "Количество уникальных значений в столбце 'RegularMedicine': 3\n",
            "Уникальные значения в столбце 'RegularMedicine':\n",
            "['no' 'yes' 'o']\n",
            "\n",
            "Количество уникальных значений в столбце 'JunkFood': 4\n",
            "Уникальные значения в столбце 'JunkFood':\n",
            "['occasionally' 'very often' 'often' 'always']\n",
            "\n",
            "Количество уникальных значений в столбце 'Stress': 4\n",
            "Уникальные значения в столбце 'Stress':\n",
            "['sometimes' 'not at all' 'very often' 'always']\n",
            "\n",
            "Количество уникальных значений в столбце 'BPLevel': 6\n",
            "Уникальные значения в столбце 'BPLevel':\n",
            "['high' 'normal' 'low' 'Low' 'High' 'normal ']\n",
            "\n",
            "Количество уникальных значений в столбце 'Pregancies': 6\n",
            "Уникальные значения в столбце 'Pregancies':\n",
            "[ 0.  1.  2.  3.  4. nan]\n",
            "\n",
            "Количество уникальных значений в столбце 'Pdiabetes': 4\n",
            "Уникальные значения в столбце 'Pdiabetes':\n",
            "['0' 'yes' nan 'no']\n",
            "\n",
            "Количество уникальных значений в столбце 'UriationFreq': 2\n",
            "Уникальные значения в столбце 'UriationFreq':\n",
            "['not much' 'quite often']\n",
            "\n",
            "Количество уникальных значений в столбце 'Diabetic': 4\n",
            "Уникальные значения в столбце 'Diabetic':\n",
            "['no' 'yes' ' no' nan]\n",
            "\n"
          ]
        }
      ]
    },
    {
      "cell_type": "code",
      "source": [
        "unique_values = data['Pdiabetes'].unique()\n",
        "print(unique_values)"
      ],
      "metadata": {
        "colab": {
          "base_uri": "https://localhost:8080/"
        },
        "id": "6WvMFent0if3",
        "outputId": "e6e64382-7753-46a8-fd3c-880a65344000"
      },
      "execution_count": 9,
      "outputs": [
        {
          "output_type": "stream",
          "name": "stdout",
          "text": [
            "['0' 'yes' nan 'no']\n"
          ]
        }
      ]
    },
    {
      "cell_type": "markdown",
      "source": [
        "Подчистим значения признаков."
      ],
      "metadata": {
        "id": "1iR3BkuYBsWj"
      }
    },
    {
      "cell_type": "code",
      "source": [
        "data['RegularMedicine'].replace('o','no', inplace=True)\n",
        "data['BPLevel'] = data['BPLevel'].str.lower().str.strip()\n",
        "data['Pdiabetes'].replace('0', 'no', inplace=True)\n",
        "data['Diabetic'] = data['Diabetic'].str.strip()"
      ],
      "metadata": {
        "id": "DCnNxHl0Bwmz"
      },
      "execution_count": 10,
      "outputs": []
    },
    {
      "cell_type": "markdown",
      "source": [
        "Посмотрим на количество пропущенных значений."
      ],
      "metadata": {
        "id": "RRmwK-WvCr5L"
      }
    },
    {
      "cell_type": "code",
      "source": [
        "sns.heatmap(data.isnull(), yticklabels=False, cbar=False, cmap='magma')"
      ],
      "metadata": {
        "colab": {
          "base_uri": "https://localhost:8080/",
          "height": 610
        },
        "id": "GioCywUtr2Us",
        "outputId": "b7d94c80-71e3-407b-f66c-5af8879731aa"
      },
      "execution_count": 11,
      "outputs": [
        {
          "output_type": "execute_result",
          "data": {
            "text/plain": [
              "<Axes: >"
            ]
          },
          "metadata": {},
          "execution_count": 11
        },
        {
          "output_type": "display_data",
          "data": {
            "text/plain": [
              "<Figure size 640x480 with 1 Axes>"
            ],
            "image/png": "[encoded data removed]"
          },
          "metadata": {}
        }
      ]
    },
    {
      "cell_type": "code",
      "source": [
        "data.isna().sum()"
      ],
      "metadata": {
        "colab": {
          "base_uri": "https://localhost:8080/"
        },
        "id": "LICrJX4OqaZP",
        "outputId": "015dc01d-f590-44c3-d6e4-9b55d852a3f3"
      },
      "execution_count": 12,
      "outputs": [
        {
          "output_type": "execute_result",
          "data": {
            "text/plain": [
              "Age                  0\n",
              "Gender               0\n",
              "Family_Diabetes      0\n",
              "highBP               0\n",
              "PhysicallyActive     0\n",
              "BMI                  4\n",
              "Smoking              0\n",
              "Alcohol              0\n",
              "Sleep                0\n",
              "SoundSleep           0\n",
              "RegularMedicine      0\n",
              "JunkFood             0\n",
              "Stress               0\n",
              "BPLevel              0\n",
              "Pregancies          42\n",
              "Pdiabetes            1\n",
              "UriationFreq         0\n",
              "Diabetic             1\n",
              "dtype: int64"
            ]
          },
          "metadata": {},
          "execution_count": 12
        }
      ]
    },
    {
      "cell_type": "markdown",
      "source": [
        "Видим, что в признаке Pregnancies 42 пропущенных значения."
      ],
      "metadata": {
        "id": "3JKU4JqM1V8y"
      }
    },
    {
      "cell_type": "markdown",
      "source": [
        "Удалим 1 строку с пропущенным значением Pdiabetes."
      ],
      "metadata": {
        "id": "dPe0AGTEZ7gO"
      }
    },
    {
      "cell_type": "code",
      "source": [
        "data.dropna(subset=['Pdiabetes'], inplace=True)"
      ],
      "metadata": {
        "id": "0YovTR2yZ6zV"
      },
      "execution_count": 13,
      "outputs": []
    },
    {
      "cell_type": "markdown",
      "source": [
        "Удалим строку, содержащую пропуск в признаке Diabetic."
      ],
      "metadata": {
        "id": "h5JVomiHTGPU"
      }
    },
    {
      "cell_type": "code",
      "source": [
        "data.dropna(subset=['Diabetic'], inplace=True)"
      ],
      "metadata": {
        "id": "b3AElE7IT0uy"
      },
      "execution_count": 14,
      "outputs": []
    },
    {
      "cell_type": "markdown",
      "source": [
        "Проверим, есть ли пропущенные значения у мужчин."
      ],
      "metadata": {
        "id": "hPQfQBGhSt6i"
      }
    },
    {
      "cell_type": "code",
      "source": [
        "data[data['Gender']=='Male']['Pregancies'].isna().sum()"
      ],
      "metadata": {
        "colab": {
          "base_uri": "https://localhost:8080/"
        },
        "id": "zg0DkbovSkVZ",
        "outputId": "fc7dcf52-aeda-4ea4-8ae2-62d24082eb7d"
      },
      "execution_count": 15,
      "outputs": [
        {
          "output_type": "execute_result",
          "data": {
            "text/plain": [
              "16"
            ]
          },
          "metadata": {},
          "execution_count": 15
        }
      ]
    },
    {
      "cell_type": "markdown",
      "source": [
        "Удалим пропущенные значения для мужчин."
      ],
      "metadata": {
        "id": "a_g01XuKScI6"
      }
    },
    {
      "cell_type": "code",
      "source": [
        "data.loc[data['Gender'] == 'Male', 'Pregancies'] = data.loc[data['Gender'] == 'Male', 'Pregancies'].fillna(0)"
      ],
      "metadata": {
        "id": "40kVxnYFSolw"
      },
      "execution_count": 16,
      "outputs": []
    },
    {
      "cell_type": "code",
      "source": [
        "sns.boxplot(data = data[data['Gender'] == 'Female'], x='Age', y='Pregancies')"
      ],
      "metadata": {
        "colab": {
          "base_uri": "https://localhost:8080/",
          "height": 496
        },
        "id": "tI2kx5OW0CT-",
        "outputId": "b309e551-fa1f-458f-c5f7-06bc53bfc882"
      },
      "execution_count": 17,
      "outputs": [
        {
          "output_type": "execute_result",
          "data": {
            "text/plain": [
              "<Axes: xlabel='Age', ylabel='Pregancies'>"
            ]
          },
          "metadata": {},
          "execution_count": 17
        },
        {
          "output_type": "display_data",
          "data": {
            "text/plain": [
              "<Figure size 640x480 with 1 Axes>"
            ],
            "image/png": "[encoded data removed]"
          },
          "metadata": {}
        }
      ]
    },
    {
      "cell_type": "markdown",
      "source": [
        "Смотрим, в каких строках в зависимости от возраста пропущены значения признака беременности."
      ],
      "metadata": {
        "id": "cT7Cfqp8aKM3"
      }
    },
    {
      "cell_type": "code",
      "source": [
        "missing_values = data.groupby('Age')['Pregancies'].apply(lambda x: x.isnull().sum())\n",
        "print(missing_values)"
      ],
      "metadata": {
        "colab": {
          "base_uri": "https://localhost:8080/"
        },
        "id": "E65v9e3WaCqq",
        "outputId": "f22aee18-513f-4518-9c52-152cf39f6b41"
      },
      "execution_count": 18,
      "outputs": [
        {
          "output_type": "stream",
          "name": "stdout",
          "text": [
            "Age\n",
            "40-49            8\n",
            "50-59            4\n",
            "60 or older      1\n",
            "less than 40    13\n",
            "Name: Pregancies, dtype: int64\n"
          ]
        }
      ]
    },
    {
      "cell_type": "code",
      "source": [
        "diabetes_fm = data.query(\"Gender == 'Female'\")\n",
        "diabetes_fm_40 = diabetes_fm.query(\"Age == 'less than 40'\")\n",
        "diabetes_fm_50 = diabetes_fm.query(\"Age == '40-49'\")\n",
        "diabetes_fm_60 = diabetes_fm.query(\"Age == '50-59'\")\n",
        "diabetes_fm_over60 = diabetes_fm.query(\"Age == '60 or older'\")"
      ],
      "metadata": {
        "id": "Yhza_S17ykg3"
      },
      "execution_count": 19,
      "outputs": []
    },
    {
      "cell_type": "code",
      "source": [
        "preg_40 = round(np.mean(diabetes_fm_40['Pregancies']))\n",
        "preg_50 = round(np.mean(diabetes_fm_50['Pregancies']))\n",
        "preg_60 = round(np.mean(diabetes_fm_60['Pregancies']))\n",
        "preg_over60 = round(np.mean(diabetes_fm_over60['Pregancies']))"
      ],
      "metadata": {
        "id": "NQMgaDXUy8BD"
      },
      "execution_count": 20,
      "outputs": []
    },
    {
      "cell_type": "code",
      "source": [
        "data['Pregancies'] = data['Pregancies'].fillna(\n",
        "    data['Age'].map({\n",
        "        'less than 40': preg_40,\n",
        "        '40-49': preg_50,\n",
        "        '50-59': preg_60,\n",
        "        '60 or older': preg_over60\n",
        "    })\n",
        ")"
      ],
      "metadata": {
        "id": "EtKRdRoDy-ra"
      },
      "execution_count": 21,
      "outputs": []
    },
    {
      "cell_type": "markdown",
      "source": [
        "Так как беременность нельзя заменить средним значением, т.к. роды были либо 0 раз, либо 1,2,3 и т.д."
      ],
      "metadata": {
        "id": "k_2wlsuKanPk"
      }
    },
    {
      "cell_type": "code",
      "source": [
        "mean_value = round(data['BMI'].mean())\n",
        "data['BMI'] = data['BMI'].fillna(mean_value)"
      ],
      "metadata": {
        "id": "jwTAb8Zd0PN9"
      },
      "execution_count": 22,
      "outputs": []
    },
    {
      "cell_type": "code",
      "source": [
        "data.head(10)"
      ],
      "metadata": {
        "colab": {
          "base_uri": "https://localhost:8080/",
          "height": 531
        },
        "id": "Teli50Fn0GR6",
        "outputId": "0b773368-f836-45be-ee3e-a58df4e4ac97"
      },
      "execution_count": 23,
      "outputs": [
        {
          "output_type": "execute_result",
          "data": {
            "text/plain": [
              "            Age Gender Family_Diabetes highBP      PhysicallyActive   BMI  \\\n",
              "0         50-59   Male              no    yes        one hr or more  39.0   \n",
              "1         50-59   Male              no    yes  less than half an hr  28.0   \n",
              "2         40-49   Male              no     no        one hr or more  24.0   \n",
              "3         50-59   Male              no     no        one hr or more  23.0   \n",
              "4         40-49   Male              no     no  less than half an hr  27.0   \n",
              "5         40-49   Male              no    yes                  none  21.0   \n",
              "6  less than 40   Male              no     no        one hr or more  24.0   \n",
              "7  less than 40   Male              no     no  less than half an hr  20.0   \n",
              "8         40-49   Male             yes     no        one hr or more  23.0   \n",
              "9  less than 40   Male              no     no  more than half an hr  20.0   \n",
              "\n",
              "  Smoking Alcohol  Sleep  SoundSleep RegularMedicine      JunkFood     Stress  \\\n",
              "0      no      no      8           6              no  occasionally  sometimes   \n",
              "1      no      no      8           6             yes    very often  sometimes   \n",
              "2      no      no      6           6              no  occasionally  sometimes   \n",
              "3      no      no      8           6              no  occasionally  sometimes   \n",
              "4      no      no      8           8              no  occasionally  sometimes   \n",
              "5      no     yes     10          10              no  occasionally  sometimes   \n",
              "6      no      no      8           8              no  occasionally  sometimes   \n",
              "7      no      no      7           7             yes  occasionally  sometimes   \n",
              "8      no      no      7           7              no  occasionally  sometimes   \n",
              "9      no      no      8           8              no  occasionally  sometimes   \n",
              "\n",
              "  BPLevel  Pregancies Pdiabetes UriationFreq Diabetic  \n",
              "0    high         0.0        no     not much       no  \n",
              "1  normal         0.0        no     not much       no  \n",
              "2  normal         0.0        no     not much       no  \n",
              "3  normal         0.0        no     not much       no  \n",
              "4  normal         0.0        no     not much       no  \n",
              "5    high         0.0        no     not much      yes  \n",
              "6  normal         0.0        no     not much       no  \n",
              "7     low         0.0        no     not much       no  \n",
              "8  normal         0.0        no     not much       no  \n",
              "9  normal         0.0        no     not much       no  "
            ],
            "text/html": [
              "\n",
              "\n",
              "  <div id=\"df-506fd023-7936-4c13-bbe0-bd218bc7baa1\">\n",
              "    <div class=\"colab-df-container\">\n",
              "      <div>\n",
              "<style scoped>\n",
              "    .dataframe tbody tr th:only-of-type {\n",
              "        vertical-align: middle;\n",
              "    }\n",
              "\n",
              "    .dataframe tbody tr th {\n",
              "        vertical-align: top;\n",
              "    }\n",
              "\n",
              "    .dataframe thead th {\n",
              "        text-align: right;\n",
              "    }\n",
              "</style>\n",
              "<table border=\"1\" class=\"dataframe\">\n",
              "  <thead>\n",
              "    <tr style=\"text-align: right;\">\n",
              "      <th></th>\n",
              "      <th>Age</th>\n",
              "      <th>Gender</th>\n",
              "      <th>Family_Diabetes</th>\n",
              "      <th>highBP</th>\n",
              "      <th>PhysicallyActive</th>\n",
              "      <th>BMI</th>\n",
              "      <th>Smoking</th>\n",
              "      <th>Alcohol</th>\n",
              "      <th>Sleep</th>\n",
              "      <th>SoundSleep</th>\n",
              "      <th>RegularMedicine</th>\n",
              "      <th>JunkFood</th>\n",
              "      <th>Stress</th>\n",
              "      <th>BPLevel</th>\n",
              "      <th>Pregancies</th>\n",
              "      <th>Pdiabetes</th>\n",
              "      <th>UriationFreq</th>\n",
              "      <th>Diabetic</th>\n",
              "    </tr>\n",
              "  </thead>\n",
              "  <tbody>\n",
              "    <tr>\n",
              "      <th>0</th>\n",
              "      <td>50-59</td>\n",
              "      <td>Male</td>\n",
              "      <td>no</td>\n",
              "      <td>yes</td>\n",
              "      <td>one hr or more</td>\n",
              "      <td>39.0</td>\n",
              "      <td>no</td>\n",
              "      <td>no</td>\n",
              "      <td>8</td>\n",
              "      <td>6</td>\n",
              "      <td>no</td>\n",
              "      <td>occasionally</td>\n",
              "      <td>sometimes</td>\n",
              "      <td>high</td>\n",
              "      <td>0.0</td>\n",
              "      <td>no</td>\n",
              "      <td>not much</td>\n",
              "      <td>no</td>\n",
              "    </tr>\n",
              "    <tr>\n",
              "      <th>1</th>\n",
              "      <td>50-59</td>\n",
              "      <td>Male</td>\n",
              "      <td>no</td>\n",
              "      <td>yes</td>\n",
              "      <td>less than half an hr</td>\n",
              "      <td>28.0</td>\n",
              "      <td>no</td>\n",
              "      <td>no</td>\n",
              "      <td>8</td>\n",
              "      <td>6</td>\n",
              "      <td>yes</td>\n",
              "      <td>very often</td>\n",
              "      <td>sometimes</td>\n",
              "      <td>normal</td>\n",
              "      <td>0.0</td>\n",
              "      <td>no</td>\n",
              "      <td>not much</td>\n",
              "      <td>no</td>\n",
              "    </tr>\n",
              "    <tr>\n",
              "      <th>2</th>\n",
              "      <td>40-49</td>\n",
              "      <td>Male</td>\n",
              "      <td>no</td>\n",
              "      <td>no</td>\n",
              "      <td>one hr or more</td>\n",
              "      <td>24.0</td>\n",
              "      <td>no</td>\n",
              "      <td>no</td>\n",
              "      <td>6</td>\n",
              "      <td>6</td>\n",
              "      <td>no</td>\n",
              "      <td>occasionally</td>\n",
              "      <td>sometimes</td>\n",
              "      <td>normal</td>\n",
              "      <td>0.0</td>\n",
              "      <td>no</td>\n",
              "      <td>not much</td>\n",
              "      <td>no</td>\n",
              "    </tr>\n",
              "    <tr>\n",
              "      <th>3</th>\n",
              "      <td>50-59</td>\n",
              "      <td>Male</td>\n",
              "      <td>no</td>\n",
              "      <td>no</td>\n",
              "      <td>one hr or more</td>\n",
              "      <td>23.0</td>\n",
              "      <td>no</td>\n",
              "      <td>no</td>\n",
              "      <td>8</td>\n",
              "      <td>6</td>\n",
              "      <td>no</td>\n",
              "      <td>occasionally</td>\n",
              "      <td>sometimes</td>\n",
              "      <td>normal</td>\n",
              "      <td>0.0</td>\n",
              "      <td>no</td>\n",
              "      <td>not much</td>\n",
              "      <td>no</td>\n",
              "    </tr>\n",
              "    <tr>\n",
              "      <th>4</th>\n",
              "      <td>40-49</td>\n",
              "      <td>Male</td>\n",
              "      <td>no</td>\n",
              "      <td>no</td>\n",
              "      <td>less than half an hr</td>\n",
              "      <td>27.0</td>\n",
              "      <td>no</td>\n",
              "      <td>no</td>\n",
              "      <td>8</td>\n",
              "      <td>8</td>\n",
              "      <td>no</td>\n",
              "      <td>occasionally</td>\n",
              "      <td>sometimes</td>\n",
              "      <td>normal</td>\n",
              "      <td>0.0</td>\n",
              "      <td>no</td>\n",
              "      <td>not much</td>\n",
              "      <td>no</td>\n",
              "    </tr>\n",
              "    <tr>\n",
              "      <th>5</th>\n",
              "      <td>40-49</td>\n",
              "      <td>Male</td>\n",
              "      <td>no</td>\n",
              "      <td>yes</td>\n",
              "      <td>none</td>\n",
              "      <td>21.0</td>\n",
              "      <td>no</td>\n",
              "      <td>yes</td>\n",
              "      <td>10</td>\n",
              "      <td>10</td>\n",
              "      <td>no</td>\n",
              "      <td>occasionally</td>\n",
              "      <td>sometimes</td>\n",
              "      <td>high</td>\n",
              "      <td>0.0</td>\n",
              "      <td>no</td>\n",
              "      <td>not much</td>\n",
              "      <td>yes</td>\n",
              "    </tr>\n",
              "    <tr>\n",
              "      <th>6</th>\n",
              "      <td>less than 40</td>\n",
              "      <td>Male</td>\n",
              "      <td>no</td>\n",
              "      <td>no</td>\n",
              "      <td>one hr or more</td>\n",
              "      <td>24.0</td>\n",
              "      <td>no</td>\n",
              "      <td>no</td>\n",
              "      <td>8</td>\n",
              "      <td>8</td>\n",
              "      <td>no</td>\n",
              "      <td>occasionally</td>\n",
              "      <td>sometimes</td>\n",
              "      <td>normal</td>\n",
              "      <td>0.0</td>\n",
              "      <td>no</td>\n",
              "      <td>not much</td>\n",
              "      <td>no</td>\n",
              "    </tr>\n",
              "    <tr>\n",
              "      <th>7</th>\n",
              "      <td>less than 40</td>\n",
              "      <td>Male</td>\n",
              "      <td>no</td>\n",
              "      <td>no</td>\n",
              "      <td>less than half an hr</td>\n",
              "      <td>20.0</td>\n",
              "      <td>no</td>\n",
              "      <td>no</td>\n",
              "      <td>7</td>\n",
              "      <td>7</td>\n",
              "      <td>yes</td>\n",
              "      <td>occasionally</td>\n",
              "      <td>sometimes</td>\n",
              "      <td>low</td>\n",
              "      <td>0.0</td>\n",
              "      <td>no</td>\n",
              "      <td>not much</td>\n",
              "      <td>no</td>\n",
              "    </tr>\n",
              "    <tr>\n",
              "      <th>8</th>\n",
              "      <td>40-49</td>\n",
              "      <td>Male</td>\n",
              "      <td>yes</td>\n",
              "      <td>no</td>\n",
              "      <td>one hr or more</td>\n",
              "      <td>23.0</td>\n",
              "      <td>no</td>\n",
              "      <td>no</td>\n",
              "      <td>7</td>\n",
              "      <td>7</td>\n",
              "      <td>no</td>\n",
              "      <td>occasionally</td>\n",
              "      <td>sometimes</td>\n",
              "      <td>normal</td>\n",
              "      <td>0.0</td>\n",
              "      <td>no</td>\n",
              "      <td>not much</td>\n",
              "      <td>no</td>\n",
              "    </tr>\n",
              "    <tr>\n",
              "      <th>9</th>\n",
              "      <td>less than 40</td>\n",
              "      <td>Male</td>\n",
              "      <td>no</td>\n",
              "      <td>no</td>\n",
              "      <td>more than half an hr</td>\n",
              "      <td>20.0</td>\n",
              "      <td>no</td>\n",
              "      <td>no</td>\n",
              "      <td>8</td>\n",
              "      <td>8</td>\n",
              "      <td>no</td>\n",
              "      <td>occasionally</td>\n",
              "      <td>sometimes</td>\n",
              "      <td>normal</td>\n",
              "      <td>0.0</td>\n",
              "      <td>no</td>\n",
              "      <td>not much</td>\n",
              "      <td>no</td>\n",
              "    </tr>\n",
              "  </tbody>\n",
              "</table>\n",
              "</div>\n",
              "      <button class=\"colab-df-convert\" onclick=\"convertToInteractive('df-506fd023-7936-4c13-bbe0-bd218bc7baa1')\"\n",
              "              title=\"Convert this dataframe to an interactive table.\"\n",
              "              style=\"display:none;\">\n",
              "\n",
              "  <svg xmlns=\"http://www.w3.org/2000/svg\" height=\"24px\"viewBox=\"0 0 24 24\"\n",
              "       width=\"24px\">\n",
              "    <path d=\"M0 0h24v24H0V0z\" fill=\"none\"/>\n",
              "    <path d=\"M18.56 5.44l.94 2.06.94-2.06 2.06-.94-2.06-.94-.94-2.06-.94 2.06-2.06.94zm-11 1L8.5 8.5l.94-2.06 2.06-.94-2.06-.94L8.5 2.5l-.94 2.06-2.06.94zm10 10l.94 2.06.94-2.06 2.06-.94-2.06-.94-.94-2.06-.94 2.06-2.06.94z\"/><path d=\"M17.41 7.96l-1.37-1.37c-.4-.4-.92-.59-1.43-.59-.52 0-1.04.2-1.43.59L10.3 9.45l-7.72 7.72c-.78.78-.78 2.05 0 2.83L4 21.41c.39.39.9.59 1.41.59.51 0 1.02-.2 1.41-.59l7.78-7.78 2.81-2.81c.8-.78.8-2.07 0-2.86zM5.41 20L4 18.59l7.72-7.72 1.47 1.35L5.41 20z\"/>\n",
              "  </svg>\n",
              "      </button>\n",
              "\n",
              "\n",
              "\n",
              "    <div id=\"df-8a6cb07c-8a39-4635-b393-51c37c72c5fe\">\n",
              "      <button class=\"colab-df-quickchart\" onclick=\"quickchart('df-8a6cb07c-8a39-4635-b393-51c37c72c5fe')\"\n",
              "              title=\"Suggest charts.\"\n",
              "              style=\"display:none;\">\n",
              "\n",
              "<svg xmlns=\"http://www.w3.org/2000/svg\" height=\"24px\"viewBox=\"0 0 24 24\"\n",
              "     width=\"24px\">\n",
              "    <g>\n",
              "        <path d=\"M19 3H5c-1.1 0-2 .9-2 2v14c0 1.1.9 2 2 2h14c1.1 0 2-.9 2-2V5c0-1.1-.9-2-2-2zM9 17H7v-7h2v7zm4 0h-2V7h2v10zm4 0h-2v-4h2v4z\"/>\n",
              "    </g>\n",
              "</svg>\n",
              "      </button>\n",
              "    </div>\n",
              "\n",
              "<style>\n",
              "  .colab-df-quickchart {\n",
              "    background-color: #E8F0FE;\n",
              "    border: none;\n",
              "    border-radius: 50%;\n",
              "    cursor: pointer;\n",
              "    display: none;\n",
              "    fill: #1967D2;\n",
              "    height: 32px;\n",
              "    padding: 0 0 0 0;\n",
              "    width: 32px;\n",
              "  }\n",
              "\n",
              "  .colab-df-quickchart:hover {\n",
              "    background-color: #E2EBFA;\n",
              "    box-shadow: 0px 1px 2px rgba(60, 64, 67, 0.3), 0px 1px 3px 1px rgba(60, 64, 67, 0.15);\n",
              "    fill: #174EA6;\n",
              "  }\n",
              "\n",
              "  [theme=dark] .colab-df-quickchart {\n",
              "    background-color: #3B4455;\n",
              "    fill: #D2E3FC;\n",
              "  }\n",
              "\n",
              "  [theme=dark] .colab-df-quickchart:hover {\n",
              "    background-color: #434B5C;\n",
              "    box-shadow: 0px 1px 3px 1px rgba(0, 0, 0, 0.15);\n",
              "    filter: drop-shadow(0px 1px 2px rgba(0, 0, 0, 0.3));\n",
              "    fill: #FFFFFF;\n",
              "  }\n",
              "</style>\n",
              "\n",
              "    <script>\n",
              "      async function quickchart(key) {\n",
              "        const containerElement = document.querySelector('#' + key);\n",
              "        const charts = await google.colab.kernel.invokeFunction(\n",
              "            'suggestCharts', [key], {});\n",
              "      }\n",
              "    </script>\n",
              "\n",
              "      <script>\n",
              "\n",
              "function displayQuickchartButton(domScope) {\n",
              "  let quickchartButtonEl =\n",
              "    domScope.querySelector('#df-8a6cb07c-8a39-4635-b393-51c37c72c5fe button.colab-df-quickchart');\n",
              "  quickchartButtonEl.style.display =\n",
              "    google.colab.kernel.accessAllowed ? 'block' : 'none';\n",
              "}\n",
              "\n",
              "        displayQuickchartButton(document);\n",
              "      </script>\n",
              "      <style>\n",
              "    .colab-df-container {\n",
              "      display:flex;\n",
              "      flex-wrap:wrap;\n",
              "      gap: 12px;\n",
              "    }\n",
              "\n",
              "    .colab-df-convert {\n",
              "      background-color: #E8F0FE;\n",
              "      border: none;\n",
              "      border-radius: 50%;\n",
              "      cursor: pointer;\n",
              "      display: none;\n",
              "      fill: #1967D2;\n",
              "      height: 32px;\n",
              "      padding: 0 0 0 0;\n",
              "      width: 32px;\n",
              "    }\n",
              "\n",
              "    .colab-df-convert:hover {\n",
              "      background-color: #E2EBFA;\n",
              "      box-shadow: 0px 1px 2px rgba(60, 64, 67, 0.3), 0px 1px 3px 1px rgba(60, 64, 67, 0.15);\n",
              "      fill: #174EA6;\n",
              "    }\n",
              "\n",
              "    [theme=dark] .colab-df-convert {\n",
              "      background-color: #3B4455;\n",
              "      fill: #D2E3FC;\n",
              "    }\n",
              "\n",
              "    [theme=dark] .colab-df-convert:hover {\n",
              "      background-color: #434B5C;\n",
              "      box-shadow: 0px 1px 3px 1px rgba(0, 0, 0, 0.15);\n",
              "      filter: drop-shadow(0px 1px 2px rgba(0, 0, 0, 0.3));\n",
              "      fill: #FFFFFF;\n",
              "    }\n",
              "  </style>\n",
              "\n",
              "      <script>\n",
              "        const buttonEl =\n",
              "          document.querySelector('#df-506fd023-7936-4c13-bbe0-bd218bc7baa1 button.colab-df-convert');\n",
              "        buttonEl.style.display =\n",
              "          google.colab.kernel.accessAllowed ? 'block' : 'none';\n",
              "\n",
              "        async function convertToInteractive(key) {\n",
              "          const element = document.querySelector('#df-506fd023-7936-4c13-bbe0-bd218bc7baa1');\n",
              "          const dataTable =\n",
              "            await google.colab.kernel.invokeFunction('convertToInteractive',\n",
              "                                                     [key], {});\n",
              "          if (!dataTable) return;\n",
              "\n",
              "          const docLinkHtml = 'Like what you see? Visit the ' +\n",
              "            '<a target=\"_blank\" href=https://colab.research.google.com/notebooks/data_table.ipynb>data table notebook</a>'\n",
              "            + ' to learn more about interactive tables.';\n",
              "          element.innerHTML = '';\n",
              "          dataTable['output_type'] = 'display_data';\n",
              "          await google.colab.output.renderOutput(dataTable, element);\n",
              "          const docLink = document.createElement('div');\n",
              "          docLink.innerHTML = docLinkHtml;\n",
              "          element.appendChild(docLink);\n",
              "        }\n",
              "      </script>\n",
              "    </div>\n",
              "  </div>\n"
            ]
          },
          "metadata": {},
          "execution_count": 23
        }
      ]
    },
    {
      "cell_type": "markdown",
      "source": [
        "поехали заменять категор признаки..."
      ],
      "metadata": {
        "id": "Jvb2E8l-c9Oa"
      }
    },
    {
      "cell_type": "code",
      "source": [
        "num_cols = ['BMI', 'Sleep', 'SoundSleep', 'Pregancies']\n",
        "category_cols = list(set(data.columns).difference(set(num_cols)))\n",
        "\n",
        "data_clean = pd.DataFrame()\n",
        "for col in num_cols:\n",
        "    data_clean[col] = data[col].astype('int')\n",
        "\n",
        "for col in category_cols:\n",
        "    data_clean[col] = data[col].astype('category')"
      ],
      "metadata": {
        "id": "hQPOdVX5hGiF"
      },
      "execution_count": 24,
      "outputs": []
    },
    {
      "cell_type": "code",
      "source": [
        "category_mapping = {\n",
        "    'Age':{'less than 40':0, '40-49':1, '50-59':2, '60 or older':3},\n",
        "    'Family_Diabetes':{'no':0, 'yes':1},\n",
        "    'Gender':{'Female':0, 'Male':1},\n",
        "    'Smoking':{'no':0, 'yes':1},\n",
        "    'Pdiabetes':{'no':0, 'yes':1},\n",
        "    'RegularMedicine':{'no':0, 'yes':1},\n",
        "    'PhysicallyActive':{'one hr or more':0, 'more than half an hr':1, 'less than half an hr':2, 'none':3},\n",
        "    'JunkFood':{'occasionally':0, 'often':1, 'very often':2, 'always':3},\n",
        "    'BPLevel':{'low':0, 'normal':1, 'high':2},\n",
        "    'highBP':{'no':0, 'yes':1},\n",
        "    'Alcohol':{'no':0, 'yes':1},\n",
        "    'UriationFreq':{'not much':0, 'quite often':1},\n",
        "    'Stress':{'not at all':0, 'sometimes':1, 'very often':2, 'always':3},\n",
        "    'Diabetic':{'no':0, 'yes':1},\n",
        "}\n",
        "\n",
        "for col in category_cols:\n",
        "    data_clean[col] = data_clean[col].map(category_mapping[col])"
      ],
      "metadata": {
        "id": "XEpw8Va4hIDq"
      },
      "execution_count": 25,
      "outputs": []
    },
    {
      "cell_type": "code",
      "source": [
        "data_clean.head()"
      ],
      "metadata": {
        "colab": {
          "base_uri": "https://localhost:8080/",
          "height": 270
        },
        "id": "sV1xAax-hN7n",
        "outputId": "d6103537-11df-419c-f387-eb0acffadf03"
      },
      "execution_count": 26,
      "outputs": [
        {
          "output_type": "execute_result",
          "data": {
            "text/plain": [
              "   BMI  Sleep  SoundSleep  Pregancies highBP Gender RegularMedicine JunkFood  \\\n",
              "0   39      8           6           0      1      1               0        0   \n",
              "1   28      8           6           0      1      1               1        2   \n",
              "2   24      6           6           0      0      1               0        0   \n",
              "3   23      8           6           0      0      1               0        0   \n",
              "4   27      8           8           0      0      1               0        0   \n",
              "\n",
              "  Stress Smoking PhysicallyActive Age BPLevel Family_Diabetes Alcohol  \\\n",
              "0      1       0                0   2       2               0       0   \n",
              "1      1       0                2   2       1               0       0   \n",
              "2      1       0                0   1       1               0       0   \n",
              "3      1       0                0   2       1               0       0   \n",
              "4      1       0                2   1       1               0       0   \n",
              "\n",
              "  Pdiabetes UriationFreq Diabetic  \n",
              "0         0            0        0  \n",
              "1         0            0        0  \n",
              "2         0            0        0  \n",
              "3         0            0        0  \n",
              "4         0            0        0  "
            ],
            "text/html": [
              "\n",
              "\n",
              "  <div id=\"df-3419ce19-f2de-461f-b4e4-897c8ee97ce0\">\n",
              "    <div class=\"colab-df-container\">\n",
              "      <div>\n",
              "<style scoped>\n",
              "    .dataframe tbody tr th:only-of-type {\n",
              "        vertical-align: middle;\n",
              "    }\n",
              "\n",
              "    .dataframe tbody tr th {\n",
              "        vertical-align: top;\n",
              "    }\n",
              "\n",
              "    .dataframe thead th {\n",
              "        text-align: right;\n",
              "    }\n",
              "</style>\n",
              "<table border=\"1\" class=\"dataframe\">\n",
              "  <thead>\n",
              "    <tr style=\"text-align: right;\">\n",
              "      <th></th>\n",
              "      <th>BMI</th>\n",
              "      <th>Sleep</th>\n",
              "      <th>SoundSleep</th>\n",
              "      <th>Pregancies</th>\n",
              "      <th>highBP</th>\n",
              "      <th>Gender</th>\n",
              "      <th>RegularMedicine</th>\n",
              "      <th>JunkFood</th>\n",
              "      <th>Stress</th>\n",
              "      <th>Smoking</th>\n",
              "      <th>PhysicallyActive</th>\n",
              "      <th>Age</th>\n",
              "      <th>BPLevel</th>\n",
              "      <th>Family_Diabetes</th>\n",
              "      <th>Alcohol</th>\n",
              "      <th>Pdiabetes</th>\n",
              "      <th>UriationFreq</th>\n",
              "      <th>Diabetic</th>\n",
              "    </tr>\n",
              "  </thead>\n",
              "  <tbody>\n",
              "    <tr>\n",
              "      <th>0</th>\n",
              "      <td>39</td>\n",
              "      <td>8</td>\n",
              "      <td>6</td>\n",
              "      <td>0</td>\n",
              "      <td>1</td>\n",
              "      <td>1</td>\n",
              "      <td>0</td>\n",
              "      <td>0</td>\n",
              "      <td>1</td>\n",
              "      <td>0</td>\n",
              "      <td>0</td>\n",
              "      <td>2</td>\n",
              "      <td>2</td>\n",
              "      <td>0</td>\n",
              "      <td>0</td>\n",
              "      <td>0</td>\n",
              "      <td>0</td>\n",
              "      <td>0</td>\n",
              "    </tr>\n",
              "    <tr>\n",
              "      <th>1</th>\n",
              "      <td>28</td>\n",
              "      <td>8</td>\n",
              "      <td>6</td>\n",
              "      <td>0</td>\n",
              "      <td>1</td>\n",
              "      <td>1</td>\n",
              "      <td>1</td>\n",
              "      <td>2</td>\n",
              "      <td>1</td>\n",
              "      <td>0</td>\n",
              "      <td>2</td>\n",
              "      <td>2</td>\n",
              "      <td>1</td>\n",
              "      <td>0</td>\n",
              "      <td>0</td>\n",
              "      <td>0</td>\n",
              "      <td>0</td>\n",
              "      <td>0</td>\n",
              "    </tr>\n",
              "    <tr>\n",
              "      <th>2</th>\n",
              "      <td>24</td>\n",
              "      <td>6</td>\n",
              "      <td>6</td>\n",
              "      <td>0</td>\n",
              "      <td>0</td>\n",
              "      <td>1</td>\n",
              "      <td>0</td>\n",
              "      <td>0</td>\n",
              "      <td>1</td>\n",
              "      <td>0</td>\n",
              "      <td>0</td>\n",
              "      <td>1</td>\n",
              "      <td>1</td>\n",
              "      <td>0</td>\n",
              "      <td>0</td>\n",
              "      <td>0</td>\n",
              "      <td>0</td>\n",
              "      <td>0</td>\n",
              "    </tr>\n",
              "    <tr>\n",
              "      <th>3</th>\n",
              "      <td>23</td>\n",
              "      <td>8</td>\n",
              "      <td>6</td>\n",
              "      <td>0</td>\n",
              "      <td>0</td>\n",
              "      <td>1</td>\n",
              "      <td>0</td>\n",
              "      <td>0</td>\n",
              "      <td>1</td>\n",
              "      <td>0</td>\n",
              "      <td>0</td>\n",
              "      <td>2</td>\n",
              "      <td>1</td>\n",
              "      <td>0</td>\n",
              "      <td>0</td>\n",
              "      <td>0</td>\n",
              "      <td>0</td>\n",
              "      <td>0</td>\n",
              "    </tr>\n",
              "    <tr>\n",
              "      <th>4</th>\n",
              "      <td>27</td>\n",
              "      <td>8</td>\n",
              "      <td>8</td>\n",
              "      <td>0</td>\n",
              "      <td>0</td>\n",
              "      <td>1</td>\n",
              "      <td>0</td>\n",
              "      <td>0</td>\n",
              "      <td>1</td>\n",
              "      <td>0</td>\n",
              "      <td>2</td>\n",
              "      <td>1</td>\n",
              "      <td>1</td>\n",
              "      <td>0</td>\n",
              "      <td>0</td>\n",
              "      <td>0</td>\n",
              "      <td>0</td>\n",
              "      <td>0</td>\n",
              "    </tr>\n",
              "  </tbody>\n",
              "</table>\n",
              "</div>\n",
              "      <button class=\"colab-df-convert\" onclick=\"convertToInteractive('df-3419ce19-f2de-461f-b4e4-897c8ee97ce0')\"\n",
              "              title=\"Convert this dataframe to an interactive table.\"\n",
              "              style=\"display:none;\">\n",
              "\n",
              "  <svg xmlns=\"http://www.w3.org/2000/svg\" height=\"24px\"viewBox=\"0 0 24 24\"\n",
              "       width=\"24px\">\n",
              "    <path d=\"M0 0h24v24H0V0z\" fill=\"none\"/>\n",
              "    <path d=\"M18.56 5.44l.94 2.06.94-2.06 2.06-.94-2.06-.94-.94-2.06-.94 2.06-2.06.94zm-11 1L8.5 8.5l.94-2.06 2.06-.94-2.06-.94L8.5 2.5l-.94 2.06-2.06.94zm10 10l.94 2.06.94-2.06 2.06-.94-2.06-.94-.94-2.06-.94 2.06-2.06.94z\"/><path d=\"M17.41 7.96l-1.37-1.37c-.4-.4-.92-.59-1.43-.59-.52 0-1.04.2-1.43.59L10.3 9.45l-7.72 7.72c-.78.78-.78 2.05 0 2.83L4 21.41c.39.39.9.59 1.41.59.51 0 1.02-.2 1.41-.59l7.78-7.78 2.81-2.81c.8-.78.8-2.07 0-2.86zM5.41 20L4 18.59l7.72-7.72 1.47 1.35L5.41 20z\"/>\n",
              "  </svg>\n",
              "      </button>\n",
              "\n",
              "\n",
              "\n",
              "    <div id=\"df-27215893-7a92-479a-8aad-f430ce6eef00\">\n",
              "      <button class=\"colab-df-quickchart\" onclick=\"quickchart('df-27215893-7a92-479a-8aad-f430ce6eef00')\"\n",
              "              title=\"Suggest charts.\"\n",
              "              style=\"display:none;\">\n",
              "\n",
              "<svg xmlns=\"http://www.w3.org/2000/svg\" height=\"24px\"viewBox=\"0 0 24 24\"\n",
              "     width=\"24px\">\n",
              "    <g>\n",
              "        <path d=\"M19 3H5c-1.1 0-2 .9-2 2v14c0 1.1.9 2 2 2h14c1.1 0 2-.9 2-2V5c0-1.1-.9-2-2-2zM9 17H7v-7h2v7zm4 0h-2V7h2v10zm4 0h-2v-4h2v4z\"/>\n",
              "    </g>\n",
              "</svg>\n",
              "      </button>\n",
              "    </div>\n",
              "\n",
              "<style>\n",
              "  .colab-df-quickchart {\n",
              "    background-color: #E8F0FE;\n",
              "    border: none;\n",
              "    border-radius: 50%;\n",
              "    cursor: pointer;\n",
              "    display: none;\n",
              "    fill: #1967D2;\n",
              "    height: 32px;\n",
              "    padding: 0 0 0 0;\n",
              "    width: 32px;\n",
              "  }\n",
              "\n",
              "  .colab-df-quickchart:hover {\n",
              "    background-color: #E2EBFA;\n",
              "    box-shadow: 0px 1px 2px rgba(60, 64, 67, 0.3), 0px 1px 3px 1px rgba(60, 64, 67, 0.15);\n",
              "    fill: #174EA6;\n",
              "  }\n",
              "\n",
              "  [theme=dark] .colab-df-quickchart {\n",
              "    background-color: #3B4455;\n",
              "    fill: #D2E3FC;\n",
              "  }\n",
              "\n",
              "  [theme=dark] .colab-df-quickchart:hover {\n",
              "    background-color: #434B5C;\n",
              "    box-shadow: 0px 1px 3px 1px rgba(0, 0, 0, 0.15);\n",
              "    filter: drop-shadow(0px 1px 2px rgba(0, 0, 0, 0.3));\n",
              "    fill: #FFFFFF;\n",
              "  }\n",
              "</style>\n",
              "\n",
              "    <script>\n",
              "      async function quickchart(key) {\n",
              "        const containerElement = document.querySelector('#' + key);\n",
              "        const charts = await google.colab.kernel.invokeFunction(\n",
              "            'suggestCharts', [key], {});\n",
              "      }\n",
              "    </script>\n",
              "\n",
              "      <script>\n",
              "\n",
              "function displayQuickchartButton(domScope) {\n",
              "  let quickchartButtonEl =\n",
              "    domScope.querySelector('#df-27215893-7a92-479a-8aad-f430ce6eef00 button.colab-df-quickchart');\n",
              "  quickchartButtonEl.style.display =\n",
              "    google.colab.kernel.accessAllowed ? 'block' : 'none';\n",
              "}\n",
              "\n",
              "        displayQuickchartButton(document);\n",
              "      </script>\n",
              "      <style>\n",
              "    .colab-df-container {\n",
              "      display:flex;\n",
              "      flex-wrap:wrap;\n",
              "      gap: 12px;\n",
              "    }\n",
              "\n",
              "    .colab-df-convert {\n",
              "      background-color: #E8F0FE;\n",
              "      border: none;\n",
              "      border-radius: 50%;\n",
              "      cursor: pointer;\n",
              "      display: none;\n",
              "      fill: #1967D2;\n",
              "      height: 32px;\n",
              "      padding: 0 0 0 0;\n",
              "      width: 32px;\n",
              "    }\n",
              "\n",
              "    .colab-df-convert:hover {\n",
              "      background-color: #E2EBFA;\n",
              "      box-shadow: 0px 1px 2px rgba(60, 64, 67, 0.3), 0px 1px 3px 1px rgba(60, 64, 67, 0.15);\n",
              "      fill: #174EA6;\n",
              "    }\n",
              "\n",
              "    [theme=dark] .colab-df-convert {\n",
              "      background-color: #3B4455;\n",
              "      fill: #D2E3FC;\n",
              "    }\n",
              "\n",
              "    [theme=dark] .colab-df-convert:hover {\n",
              "      background-color: #434B5C;\n",
              "      box-shadow: 0px 1px 3px 1px rgba(0, 0, 0, 0.15);\n",
              "      filter: drop-shadow(0px 1px 2px rgba(0, 0, 0, 0.3));\n",
              "      fill: #FFFFFF;\n",
              "    }\n",
              "  </style>\n",
              "\n",
              "      <script>\n",
              "        const buttonEl =\n",
              "          document.querySelector('#df-3419ce19-f2de-461f-b4e4-897c8ee97ce0 button.colab-df-convert');\n",
              "        buttonEl.style.display =\n",
              "          google.colab.kernel.accessAllowed ? 'block' : 'none';\n",
              "\n",
              "        async function convertToInteractive(key) {\n",
              "          const element = document.querySelector('#df-3419ce19-f2de-461f-b4e4-897c8ee97ce0');\n",
              "          const dataTable =\n",
              "            await google.colab.kernel.invokeFunction('convertToInteractive',\n",
              "                                                     [key], {});\n",
              "          if (!dataTable) return;\n",
              "\n",
              "          const docLinkHtml = 'Like what you see? Visit the ' +\n",
              "            '<a target=\"_blank\" href=https://colab.research.google.com/notebooks/data_table.ipynb>data table notebook</a>'\n",
              "            + ' to learn more about interactive tables.';\n",
              "          element.innerHTML = '';\n",
              "          dataTable['output_type'] = 'display_data';\n",
              "          await google.colab.output.renderOutput(dataTable, element);\n",
              "          const docLink = document.createElement('div');\n",
              "          docLink.innerHTML = docLinkHtml;\n",
              "          element.appendChild(docLink);\n",
              "        }\n",
              "      </script>\n",
              "    </div>\n",
              "  </div>\n"
            ]
          },
          "metadata": {},
          "execution_count": 26
        }
      ]
    },
    {
      "cell_type": "code",
      "source": [
        "data_clean.info()"
      ],
      "metadata": {
        "colab": {
          "base_uri": "https://localhost:8080/"
        },
        "id": "N_4e07GSh-Bx",
        "outputId": "cdda54f5-7476-4f8e-a25d-f86c311d25ff"
      },
      "execution_count": 27,
      "outputs": [
        {
          "output_type": "stream",
          "name": "stdout",
          "text": [
            "<class 'pandas.core.frame.DataFrame'>\n",
            "Int64Index: 950 entries, 0 to 951\n",
            "Data columns (total 18 columns):\n",
            " #   Column            Non-Null Count  Dtype   \n",
            "---  ------            --------------  -----   \n",
            " 0   BMI               950 non-null    int64   \n",
            " 1   Sleep             950 non-null    int64   \n",
            " 2   SoundSleep        950 non-null    int64   \n",
            " 3   Pregancies        950 non-null    int64   \n",
            " 4   highBP            950 non-null    category\n",
            " 5   Gender            950 non-null    category\n",
            " 6   RegularMedicine   950 non-null    category\n",
            " 7   JunkFood          950 non-null    category\n",
            " 8   Stress            950 non-null    category\n",
            " 9   Smoking           950 non-null    category\n",
            " 10  PhysicallyActive  950 non-null    category\n",
            " 11  Age               950 non-null    category\n",
            " 12  BPLevel           950 non-null    category\n",
            " 13  Family_Diabetes   950 non-null    category\n",
            " 14  Alcohol           950 non-null    category\n",
            " 15  Pdiabetes         950 non-null    category\n",
            " 16  UriationFreq      950 non-null    category\n",
            " 17  Diabetic          950 non-null    category\n",
            "dtypes: category(14), int64(4)\n",
            "memory usage: 52.1 KB\n"
          ]
        }
      ]
    },
    {
      "cell_type": "code",
      "source": [
        "for col in category_cols:\n",
        "    data_clean[col] = data_clean[col].astype('Int64')"
      ],
      "metadata": {
        "id": "UoVa-xF4kcSK"
      },
      "execution_count": 28,
      "outputs": []
    },
    {
      "cell_type": "markdown",
      "source": [
        "Посмотрим на баланс выборки."
      ],
      "metadata": {
        "id": "BCV87rVP1H0n"
      }
    },
    {
      "cell_type": "code",
      "source": [
        "labels = [\"Healthy\", \"Diabetic\"]\n",
        "\n",
        "healthy_or_not = data['Diabetic'].value_counts().tolist()\n",
        "values = [healthy_or_not[0], healthy_or_not[1]]\n",
        "\n",
        "fig = px.pie(values=values, names=labels, width=700, height=400, color_discrete_sequence=[\"skyblue\", \"black\"], title=\"Healthy vs Diabetic\")\n",
        "fig.show()\n"
      ],
      "metadata": {
        "colab": {
          "base_uri": "https://localhost:8080/",
          "height": 417
        },
        "id": "d3bKlp0NZpU6",
        "outputId": "c85d2ef7-b02a-406e-f94c-822afd5c2811"
      },
      "execution_count": 29,
      "outputs": [
        {
          "output_type": "display_data",
          "data": {
            "text/html": [
              "<html>\n",
              "<head><meta charset=\"utf-8\" /></head>\n",
              "<body>\n",
              "    <div>            <script src=\"https://cdnjs.cloudflare.com/ajax/libs/mathjax/2.7.5/MathJax.js?config=TeX-AMS-MML_SVG\"></script><script type=\"text/javascript\">if (window.MathJax && window.MathJax.Hub && window.MathJax.Hub.Config) {window.MathJax.Hub.Config({SVG: {font: \"STIX-Web\"}});}</script>                <script type=\"text/javascript\">window.PlotlyConfig = {MathJaxConfig: 'local'};</script>\n",
              "        <script src=\"https://cdn.plot.ly/plotly-2.18.2.min.js\"></script>                <div id=\"b35803e3-b79c-44c2-a5b1-05b2ce702e8d\" class=\"plotly-graph-div\" style=\"height:400px; width:700px;\"></div>            <script type=\"text/javascript\">                                    window.PLOTLYENV=window.PLOTLYENV || {};                                    if (document.getElementById(\"b35803e3-b79c-44c2-a5b1-05b2ce702e8d\")) {                    Plotly.newPlot(                        \"b35803e3-b79c-44c2-a5b1-05b2ce702e8d\",                        [{\"domain\":{\"x\":[0.0,1.0],\"y\":[0.0,1.0]},\"hovertemplate\":\"label=%{label}<br>value=%{value}<extra></extra>\",\"labels\":[\"Healthy\",\"Diabetic\"],\"legendgroup\":\"\",\"name\":\"\",\"showlegend\":true,\"values\":[684,266],\"type\":\"pie\"}],                        {\"template\":{\"data\":{\"histogram2dcontour\":[{\"type\":\"histogram2dcontour\",\"colorbar\":{\"outlinewidth\":0,\"ticks\":\"\"},\"colorscale\":[[0.0,\"#0d0887\"],[0.1111111111111111,\"#46039f\"],[0.2222222222222222,\"#7201a8\"],[0.3333333333333333,\"#9c179e\"],[0.4444444444444444,\"#bd3786\"],[0.5555555555555556,\"#d8576b\"],[0.6666666666666666,\"#ed7953\"],[0.7777777777777778,\"#fb9f3a\"],[0.8888888888888888,\"#fdca26\"],[1.0,\"#f0f921\"]]}],\"choropleth\":[{\"type\":\"choropleth\",\"colorbar\":{\"outlinewidth\":0,\"ticks\":\"\"}}],\"histogram2d\":[{\"type\":\"histogram2d\",\"colorbar\":{\"outlinewidth\":0,\"ticks\":\"\"},\"colorscale\":[[0.0,\"#0d0887\"],[0.1111111111111111,\"#46039f\"],[0.2222222222222222,\"#7201a8\"],[0.3333333333333333,\"#9c179e\"],[0.4444444444444444,\"#bd3786\"],[0.5555555555555556,\"#d8576b\"],[0.6666666666666666,\"#ed7953\"],[0.7777777777777778,\"#fb9f3a\"],[0.8888888888888888,\"#fdca26\"],[1.0,\"#f0f921\"]]}],\"heatmap\":[{\"type\":\"heatmap\",\"colorbar\":{\"outlinewidth\":0,\"ticks\":\"\"},\"colorscale\":[[0.0,\"#0d0887\"],[0.1111111111111111,\"#46039f\"],[0.2222222222222222,\"#7201a8\"],[0.3333333333333333,\"#9c179e\"],[0.4444444444444444,\"#bd3786\"],[0.5555555555555556,\"#d8576b\"],[0.6666666666666666,\"#ed7953\"],[0.7777777777777778,\"#fb9f3a\"],[0.8888888888888888,\"#fdca26\"],[1.0,\"#f0f921\"]]}],\"heatmapgl\":[{\"type\":\"heatmapgl\",\"colorbar\":{\"outlinewidth\":0,\"ticks\":\"\"},\"colorscale\":[[0.0,\"#0d0887\"],[0.1111111111111111,\"#46039f\"],[0.2222222222222222,\"#7201a8\"],[0.3333333333333333,\"#9c179e\"],[0.4444444444444444,\"#bd3786\"],[0.5555555555555556,\"#d8576b\"],[0.6666666666666666,\"#ed7953\"],[0.7777777777777778,\"#fb9f3a\"],[0.8888888888888888,\"#fdca26\"],[1.0,\"#f0f921\"]]}],\"contourcarpet\":[{\"type\":\"contourcarpet\",\"colorbar\":{\"outlinewidth\":0,\"ticks\":\"\"}}],\"contour\":[{\"type\":\"contour\",\"colorbar\":{\"outlinewidth\":0,\"ticks\":\"\"},\"colorscale\":[[0.0,\"#0d0887\"],[0.1111111111111111,\"#46039f\"],[0.2222222222222222,\"#7201a8\"],[0.3333333333333333,\"#9c179e\"],[0.4444444444444444,\"#bd3786\"],[0.5555555555555556,\"#d8576b\"],[0.6666666666666666,\"#ed7953\"],[0.7777777777777778,\"#fb9f3a\"],[0.8888888888888888,\"#fdca26\"],[1.0,\"#f0f921\"]]}],\"surface\":[{\"type\":\"surface\",\"colorbar\":{\"outlinewidth\":0,\"ticks\":\"\"},\"colorscale\":[[0.0,\"#0d0887\"],[0.1111111111111111,\"#46039f\"],[0.2222222222222222,\"#7201a8\"],[0.3333333333333333,\"#9c179e\"],[0.4444444444444444,\"#bd3786\"],[0.5555555555555556,\"#d8576b\"],[0.6666666666666666,\"#ed7953\"],[0.7777777777777778,\"#fb9f3a\"],[0.8888888888888888,\"#fdca26\"],[1.0,\"#f0f921\"]]}],\"mesh3d\":[{\"type\":\"mesh3d\",\"colorbar\":{\"outlinewidth\":0,\"ticks\":\"\"}}],\"scatter\":[{\"fillpattern\":{\"fillmode\":\"overlay\",\"size\":10,\"solidity\":0.2},\"type\":\"scatter\"}],\"parcoords\":[{\"type\":\"parcoords\",\"line\":{\"colorbar\":{\"outlinewidth\":0,\"ticks\":\"\"}}}],\"scatterpolargl\":[{\"type\":\"scatterpolargl\",\"marker\":{\"colorbar\":{\"outlinewidth\":0,\"ticks\":\"\"}}}],\"bar\":[{\"error_x\":{\"color\":\"#2a3f5f\"},\"error_y\":{\"color\":\"#2a3f5f\"},\"marker\":{\"line\":{\"color\":\"#E5ECF6\",\"width\":0.5},\"pattern\":{\"fillmode\":\"overlay\",\"size\":10,\"solidity\":0.2}},\"type\":\"bar\"}],\"scattergeo\":[{\"type\":\"scattergeo\",\"marker\":{\"colorbar\":{\"outlinewidth\":0,\"ticks\":\"\"}}}],\"scatterpolar\":[{\"type\":\"scatterpolar\",\"marker\":{\"colorbar\":{\"outlinewidth\":0,\"ticks\":\"\"}}}],\"histogram\":[{\"marker\":{\"pattern\":{\"fillmode\":\"overlay\",\"size\":10,\"solidity\":0.2}},\"type\":\"histogram\"}],\"scattergl\":[{\"type\":\"scattergl\",\"marker\":{\"colorbar\":{\"outlinewidth\":0,\"ticks\":\"\"}}}],\"scatter3d\":[{\"type\":\"scatter3d\",\"line\":{\"colorbar\":{\"outlinewidth\":0,\"ticks\":\"\"}},\"marker\":{\"colorbar\":{\"outlinewidth\":0,\"ticks\":\"\"}}}],\"scattermapbox\":[{\"type\":\"scattermapbox\",\"marker\":{\"colorbar\":{\"outlinewidth\":0,\"ticks\":\"\"}}}],\"scatterternary\":[{\"type\":\"scatterternary\",\"marker\":{\"colorbar\":{\"outlinewidth\":0,\"ticks\":\"\"}}}],\"scattercarpet\":[{\"type\":\"scattercarpet\",\"marker\":{\"colorbar\":{\"outlinewidth\":0,\"ticks\":\"\"}}}],\"carpet\":[{\"aaxis\":{\"endlinecolor\":\"#2a3f5f\",\"gridcolor\":\"white\",\"linecolor\":\"white\",\"minorgridcolor\":\"white\",\"startlinecolor\":\"#2a3f5f\"},\"baxis\":{\"endlinecolor\":\"#2a3f5f\",\"gridcolor\":\"white\",\"linecolor\":\"white\",\"minorgridcolor\":\"white\",\"startlinecolor\":\"#2a3f5f\"},\"type\":\"carpet\"}],\"table\":[{\"cells\":{\"fill\":{\"color\":\"#EBF0F8\"},\"line\":{\"color\":\"white\"}},\"header\":{\"fill\":{\"color\":\"#C8D4E3\"},\"line\":{\"color\":\"white\"}},\"type\":\"table\"}],\"barpolar\":[{\"marker\":{\"line\":{\"color\":\"#E5ECF6\",\"width\":0.5},\"pattern\":{\"fillmode\":\"overlay\",\"size\":10,\"solidity\":0.2}},\"type\":\"barpolar\"}],\"pie\":[{\"automargin\":true,\"type\":\"pie\"}]},\"layout\":{\"autotypenumbers\":\"strict\",\"colorway\":[\"#636efa\",\"#EF553B\",\"#00cc96\",\"#ab63fa\",\"#FFA15A\",\"#19d3f3\",\"#FF6692\",\"#B6E880\",\"#FF97FF\",\"#FECB52\"],\"font\":{\"color\":\"#2a3f5f\"},\"hovermode\":\"closest\",\"hoverlabel\":{\"align\":\"left\"},\"paper_bgcolor\":\"white\",\"plot_bgcolor\":\"#E5ECF6\",\"polar\":{\"bgcolor\":\"#E5ECF6\",\"angularaxis\":{\"gridcolor\":\"white\",\"linecolor\":\"white\",\"ticks\":\"\"},\"radialaxis\":{\"gridcolor\":\"white\",\"linecolor\":\"white\",\"ticks\":\"\"}},\"ternary\":{\"bgcolor\":\"#E5ECF6\",\"aaxis\":{\"gridcolor\":\"white\",\"linecolor\":\"white\",\"ticks\":\"\"},\"baxis\":{\"gridcolor\":\"white\",\"linecolor\":\"white\",\"ticks\":\"\"},\"caxis\":{\"gridcolor\":\"white\",\"linecolor\":\"white\",\"ticks\":\"\"}},\"coloraxis\":{\"colorbar\":{\"outlinewidth\":0,\"ticks\":\"\"}},\"colorscale\":{\"sequential\":[[0.0,\"#0d0887\"],[0.1111111111111111,\"#46039f\"],[0.2222222222222222,\"#7201a8\"],[0.3333333333333333,\"#9c179e\"],[0.4444444444444444,\"#bd3786\"],[0.5555555555555556,\"#d8576b\"],[0.6666666666666666,\"#ed7953\"],[0.7777777777777778,\"#fb9f3a\"],[0.8888888888888888,\"#fdca26\"],[1.0,\"#f0f921\"]],\"sequentialminus\":[[0.0,\"#0d0887\"],[0.1111111111111111,\"#46039f\"],[0.2222222222222222,\"#7201a8\"],[0.3333333333333333,\"#9c179e\"],[0.4444444444444444,\"#bd3786\"],[0.5555555555555556,\"#d8576b\"],[0.6666666666666666,\"#ed7953\"],[0.7777777777777778,\"#fb9f3a\"],[0.8888888888888888,\"#fdca26\"],[1.0,\"#f0f921\"]],\"diverging\":[[0,\"#8e0152\"],[0.1,\"#c51b7d\"],[0.2,\"#de77ae\"],[0.3,\"#f1b6da\"],[0.4,\"#fde0ef\"],[0.5,\"#f7f7f7\"],[0.6,\"#e6f5d0\"],[0.7,\"#b8e186\"],[0.8,\"#7fbc41\"],[0.9,\"#4d9221\"],[1,\"#276419\"]]},\"xaxis\":{\"gridcolor\":\"white\",\"linecolor\":\"white\",\"ticks\":\"\",\"title\":{\"standoff\":15},\"zerolinecolor\":\"white\",\"automargin\":true,\"zerolinewidth\":2},\"yaxis\":{\"gridcolor\":\"white\",\"linecolor\":\"white\",\"ticks\":\"\",\"title\":{\"standoff\":15},\"zerolinecolor\":\"white\",\"automargin\":true,\"zerolinewidth\":2},\"scene\":{\"xaxis\":{\"backgroundcolor\":\"#E5ECF6\",\"gridcolor\":\"white\",\"linecolor\":\"white\",\"showbackground\":true,\"ticks\":\"\",\"zerolinecolor\":\"white\",\"gridwidth\":2},\"yaxis\":{\"backgroundcolor\":\"#E5ECF6\",\"gridcolor\":\"white\",\"linecolor\":\"white\",\"showbackground\":true,\"ticks\":\"\",\"zerolinecolor\":\"white\",\"gridwidth\":2},\"zaxis\":{\"backgroundcolor\":\"#E5ECF6\",\"gridcolor\":\"white\",\"linecolor\":\"white\",\"showbackground\":true,\"ticks\":\"\",\"zerolinecolor\":\"white\",\"gridwidth\":2}},\"shapedefaults\":{\"line\":{\"color\":\"#2a3f5f\"}},\"annotationdefaults\":{\"arrowcolor\":\"#2a3f5f\",\"arrowhead\":0,\"arrowwidth\":1},\"geo\":{\"bgcolor\":\"white\",\"landcolor\":\"#E5ECF6\",\"subunitcolor\":\"white\",\"showland\":true,\"showlakes\":true,\"lakecolor\":\"white\"},\"title\":{\"x\":0.05},\"mapbox\":{\"style\":\"light\"}}},\"legend\":{\"tracegroupgap\":0},\"title\":{\"text\":\"Healthy vs Diabetic\"},\"piecolorway\":[\"skyblue\",\"black\"],\"height\":400,\"width\":700},                        {\"responsive\": true}                    ).then(function(){\n",
              "                            \n",
              "var gd = document.getElementById('b35803e3-b79c-44c2-a5b1-05b2ce702e8d');\n",
              "var x = new MutationObserver(function (mutations, observer) {{\n",
              "        var display = window.getComputedStyle(gd).display;\n",
              "        if (!display || display === 'none') {{\n",
              "            console.log([gd, 'removed!']);\n",
              "            Plotly.purge(gd);\n",
              "            observer.disconnect();\n",
              "        }}\n",
              "}});\n",
              "\n",
              "// Listen for the removal of the full notebook cells\n",
              "var notebookContainer = gd.closest('#notebook-container');\n",
              "if (notebookContainer) {{\n",
              "    x.observe(notebookContainer, {childList: true});\n",
              "}}\n",
              "\n",
              "// Listen for the clearing of the current output cell\n",
              "var outputEl = gd.closest('.output');\n",
              "if (outputEl) {{\n",
              "    x.observe(outputEl, {childList: true});\n",
              "}}\n",
              "\n",
              "                        })                };                            </script>        </div>\n",
              "</body>\n",
              "</html>"
            ]
          },
          "metadata": {}
        }
      ]
    },
    {
      "cell_type": "markdown",
      "source": [
        "Отсюда видно, что выборка несбалансированная."
      ],
      "metadata": {
        "id": "mHE5OtZRaYB6"
      }
    },
    {
      "cell_type": "code",
      "source": [
        "data_clean['Diabetic'].value_counts()"
      ],
      "metadata": {
        "colab": {
          "base_uri": "https://localhost:8080/"
        },
        "id": "tMBQqO601_yU",
        "outputId": "b8d6dbed-0028-4a95-956e-32f53bb20bdd"
      },
      "execution_count": 30,
      "outputs": [
        {
          "output_type": "execute_result",
          "data": {
            "text/plain": [
              "0    684\n",
              "1    266\n",
              "Name: Diabetic, dtype: Int64"
            ]
          },
          "metadata": {},
          "execution_count": 30
        }
      ]
    },
    {
      "cell_type": "code",
      "source": [
        "X = data_clean.drop('Diabetic', axis=1)\n",
        "y = data_clean['Diabetic']"
      ],
      "metadata": {
        "id": "gLS-lhMt2xhH"
      },
      "execution_count": 31,
      "outputs": []
    },
    {
      "cell_type": "code",
      "source": [
        "X.head(10)"
      ],
      "metadata": {
        "id": "dTC5o0Td5IXW",
        "outputId": "b50d6746-ce05-45b5-c807-b91841f0e03d",
        "colab": {
          "base_uri": "https://localhost:8080/",
          "height": 427
        }
      },
      "execution_count": 32,
      "outputs": [
        {
          "output_type": "execute_result",
          "data": {
            "text/plain": [
              "   BMI  Sleep  SoundSleep  Pregancies  highBP  Gender  RegularMedicine  \\\n",
              "0   39      8           6           0       1       1                0   \n",
              "1   28      8           6           0       1       1                1   \n",
              "2   24      6           6           0       0       1                0   \n",
              "3   23      8           6           0       0       1                0   \n",
              "4   27      8           8           0       0       1                0   \n",
              "5   21     10          10           0       1       1                0   \n",
              "6   24      8           8           0       0       1                0   \n",
              "7   20      7           7           0       0       1                1   \n",
              "8   23      7           7           0       0       1                0   \n",
              "9   20      8           8           0       0       1                0   \n",
              "\n",
              "   JunkFood  Stress  Smoking  PhysicallyActive  Age  BPLevel  Family_Diabetes  \\\n",
              "0         0       1        0                 0    2        2                0   \n",
              "1         2       1        0                 2    2        1                0   \n",
              "2         0       1        0                 0    1        1                0   \n",
              "3         0       1        0                 0    2        1                0   \n",
              "4         0       1        0                 2    1        1                0   \n",
              "5         0       1        0                 3    1        2                0   \n",
              "6         0       1        0                 0    0        1                0   \n",
              "7         0       1        0                 2    0        0                0   \n",
              "8         0       1        0                 0    1        1                1   \n",
              "9         0       1        0                 1    0        1                0   \n",
              "\n",
              "   Alcohol  Pdiabetes  UriationFreq  \n",
              "0        0          0             0  \n",
              "1        0          0             0  \n",
              "2        0          0             0  \n",
              "3        0          0             0  \n",
              "4        0          0             0  \n",
              "5        1          0             0  \n",
              "6        0          0             0  \n",
              "7        0          0             0  \n",
              "8        0          0             0  \n",
              "9        0          0             0  "
            ],
            "text/html": [
              "\n",
              "\n",
              "  <div id=\"df-00d4c2a5-439d-47ee-a191-8f8a67dcec77\">\n",
              "    <div class=\"colab-df-container\">\n",
              "      <div>\n",
              "<style scoped>\n",
              "    .dataframe tbody tr th:only-of-type {\n",
              "        vertical-align: middle;\n",
              "    }\n",
              "\n",
              "    .dataframe tbody tr th {\n",
              "        vertical-align: top;\n",
              "    }\n",
              "\n",
              "    .dataframe thead th {\n",
              "        text-align: right;\n",
              "    }\n",
              "</style>\n",
              "<table border=\"1\" class=\"dataframe\">\n",
              "  <thead>\n",
              "    <tr style=\"text-align: right;\">\n",
              "      <th></th>\n",
              "      <th>BMI</th>\n",
              "      <th>Sleep</th>\n",
              "      <th>SoundSleep</th>\n",
              "      <th>Pregancies</th>\n",
              "      <th>highBP</th>\n",
              "      <th>Gender</th>\n",
              "      <th>RegularMedicine</th>\n",
              "      <th>JunkFood</th>\n",
              "      <th>Stress</th>\n",
              "      <th>Smoking</th>\n",
              "      <th>PhysicallyActive</th>\n",
              "      <th>Age</th>\n",
              "      <th>BPLevel</th>\n",
              "      <th>Family_Diabetes</th>\n",
              "      <th>Alcohol</th>\n",
              "      <th>Pdiabetes</th>\n",
              "      <th>UriationFreq</th>\n",
              "    </tr>\n",
              "  </thead>\n",
              "  <tbody>\n",
              "    <tr>\n",
              "      <th>0</th>\n",
              "      <td>39</td>\n",
              "      <td>8</td>\n",
              "      <td>6</td>\n",
              "      <td>0</td>\n",
              "      <td>1</td>\n",
              "      <td>1</td>\n",
              "      <td>0</td>\n",
              "      <td>0</td>\n",
              "      <td>1</td>\n",
              "      <td>0</td>\n",
              "      <td>0</td>\n",
              "      <td>2</td>\n",
              "      <td>2</td>\n",
              "      <td>0</td>\n",
              "      <td>0</td>\n",
              "      <td>0</td>\n",
              "      <td>0</td>\n",
              "    </tr>\n",
              "    <tr>\n",
              "      <th>1</th>\n",
              "      <td>28</td>\n",
              "      <td>8</td>\n",
              "      <td>6</td>\n",
              "      <td>0</td>\n",
              "      <td>1</td>\n",
              "      <td>1</td>\n",
              "      <td>1</td>\n",
              "      <td>2</td>\n",
              "      <td>1</td>\n",
              "      <td>0</td>\n",
              "      <td>2</td>\n",
              "      <td>2</td>\n",
              "      <td>1</td>\n",
              "      <td>0</td>\n",
              "      <td>0</td>\n",
              "      <td>0</td>\n",
              "      <td>0</td>\n",
              "    </tr>\n",
              "    <tr>\n",
              "      <th>2</th>\n",
              "      <td>24</td>\n",
              "      <td>6</td>\n",
              "      <td>6</td>\n",
              "      <td>0</td>\n",
              "      <td>0</td>\n",
              "      <td>1</td>\n",
              "      <td>0</td>\n",
              "      <td>0</td>\n",
              "      <td>1</td>\n",
              "      <td>0</td>\n",
              "      <td>0</td>\n",
              "      <td>1</td>\n",
              "      <td>1</td>\n",
              "      <td>0</td>\n",
              "      <td>0</td>\n",
              "      <td>0</td>\n",
              "      <td>0</td>\n",
              "    </tr>\n",
              "    <tr>\n",
              "      <th>3</th>\n",
              "      <td>23</td>\n",
              "      <td>8</td>\n",
              "      <td>6</td>\n",
              "      <td>0</td>\n",
              "      <td>0</td>\n",
              "      <td>1</td>\n",
              "      <td>0</td>\n",
              "      <td>0</td>\n",
              "      <td>1</td>\n",
              "      <td>0</td>\n",
              "      <td>0</td>\n",
              "      <td>2</td>\n",
              "      <td>1</td>\n",
              "      <td>0</td>\n",
              "      <td>0</td>\n",
              "      <td>0</td>\n",
              "      <td>0</td>\n",
              "    </tr>\n",
              "    <tr>\n",
              "      <th>4</th>\n",
              "      <td>27</td>\n",
              "      <td>8</td>\n",
              "      <td>8</td>\n",
              "      <td>0</td>\n",
              "      <td>0</td>\n",
              "      <td>1</td>\n",
              "      <td>0</td>\n",
              "      <td>0</td>\n",
              "      <td>1</td>\n",
              "      <td>0</td>\n",
              "      <td>2</td>\n",
              "      <td>1</td>\n",
              "      <td>1</td>\n",
              "      <td>0</td>\n",
              "      <td>0</td>\n",
              "      <td>0</td>\n",
              "      <td>0</td>\n",
              "    </tr>\n",
              "    <tr>\n",
              "      <th>5</th>\n",
              "      <td>21</td>\n",
              "      <td>10</td>\n",
              "      <td>10</td>\n",
              "      <td>0</td>\n",
              "      <td>1</td>\n",
              "      <td>1</td>\n",
              "      <td>0</td>\n",
              "      <td>0</td>\n",
              "      <td>1</td>\n",
              "      <td>0</td>\n",
              "      <td>3</td>\n",
              "      <td>1</td>\n",
              "      <td>2</td>\n",
              "      <td>0</td>\n",
              "      <td>1</td>\n",
              "      <td>0</td>\n",
              "      <td>0</td>\n",
              "    </tr>\n",
              "    <tr>\n",
              "      <th>6</th>\n",
              "      <td>24</td>\n",
              "      <td>8</td>\n",
              "      <td>8</td>\n",
              "      <td>0</td>\n",
              "      <td>0</td>\n",
              "      <td>1</td>\n",
              "      <td>0</td>\n",
              "      <td>0</td>\n",
              "      <td>1</td>\n",
              "      <td>0</td>\n",
              "      <td>0</td>\n",
              "      <td>0</td>\n",
              "      <td>1</td>\n",
              "      <td>0</td>\n",
              "      <td>0</td>\n",
              "      <td>0</td>\n",
              "      <td>0</td>\n",
              "    </tr>\n",
              "    <tr>\n",
              "      <th>7</th>\n",
              "      <td>20</td>\n",
              "      <td>7</td>\n",
              "      <td>7</td>\n",
              "      <td>0</td>\n",
              "      <td>0</td>\n",
              "      <td>1</td>\n",
              "      <td>1</td>\n",
              "      <td>0</td>\n",
              "      <td>1</td>\n",
              "      <td>0</td>\n",
              "      <td>2</td>\n",
              "      <td>0</td>\n",
              "      <td>0</td>\n",
              "      <td>0</td>\n",
              "      <td>0</td>\n",
              "      <td>0</td>\n",
              "      <td>0</td>\n",
              "    </tr>\n",
              "    <tr>\n",
              "      <th>8</th>\n",
              "      <td>23</td>\n",
              "      <td>7</td>\n",
              "      <td>7</td>\n",
              "      <td>0</td>\n",
              "      <td>0</td>\n",
              "      <td>1</td>\n",
              "      <td>0</td>\n",
              "      <td>0</td>\n",
              "      <td>1</td>\n",
              "      <td>0</td>\n",
              "      <td>0</td>\n",
              "      <td>1</td>\n",
              "      <td>1</td>\n",
              "      <td>1</td>\n",
              "      <td>0</td>\n",
              "      <td>0</td>\n",
              "      <td>0</td>\n",
              "    </tr>\n",
              "    <tr>\n",
              "      <th>9</th>\n",
              "      <td>20</td>\n",
              "      <td>8</td>\n",
              "      <td>8</td>\n",
              "      <td>0</td>\n",
              "      <td>0</td>\n",
              "      <td>1</td>\n",
              "      <td>0</td>\n",
              "      <td>0</td>\n",
              "      <td>1</td>\n",
              "      <td>0</td>\n",
              "      <td>1</td>\n",
              "      <td>0</td>\n",
              "      <td>1</td>\n",
              "      <td>0</td>\n",
              "      <td>0</td>\n",
              "      <td>0</td>\n",
              "      <td>0</td>\n",
              "    </tr>\n",
              "  </tbody>\n",
              "</table>\n",
              "</div>\n",
              "      <button class=\"colab-df-convert\" onclick=\"convertToInteractive('df-00d4c2a5-439d-47ee-a191-8f8a67dcec77')\"\n",
              "              title=\"Convert this dataframe to an interactive table.\"\n",
              "              style=\"display:none;\">\n",
              "\n",
              "  <svg xmlns=\"http://www.w3.org/2000/svg\" height=\"24px\"viewBox=\"0 0 24 24\"\n",
              "       width=\"24px\">\n",
              "    <path d=\"M0 0h24v24H0V0z\" fill=\"none\"/>\n",
              "    <path d=\"M18.56 5.44l.94 2.06.94-2.06 2.06-.94-2.06-.94-.94-2.06-.94 2.06-2.06.94zm-11 1L8.5 8.5l.94-2.06 2.06-.94-2.06-.94L8.5 2.5l-.94 2.06-2.06.94zm10 10l.94 2.06.94-2.06 2.06-.94-2.06-.94-.94-2.06-.94 2.06-2.06.94z\"/><path d=\"M17.41 7.96l-1.37-1.37c-.4-.4-.92-.59-1.43-.59-.52 0-1.04.2-1.43.59L10.3 9.45l-7.72 7.72c-.78.78-.78 2.05 0 2.83L4 21.41c.39.39.9.59 1.41.59.51 0 1.02-.2 1.41-.59l7.78-7.78 2.81-2.81c.8-.78.8-2.07 0-2.86zM5.41 20L4 18.59l7.72-7.72 1.47 1.35L5.41 20z\"/>\n",
              "  </svg>\n",
              "      </button>\n",
              "\n",
              "\n",
              "\n",
              "    <div id=\"df-50e43e1b-fb8a-4568-ac62-e4a25034c4f0\">\n",
              "      <button class=\"colab-df-quickchart\" onclick=\"quickchart('df-50e43e1b-fb8a-4568-ac62-e4a25034c4f0')\"\n",
              "              title=\"Suggest charts.\"\n",
              "              style=\"display:none;\">\n",
              "\n",
              "<svg xmlns=\"http://www.w3.org/2000/svg\" height=\"24px\"viewBox=\"0 0 24 24\"\n",
              "     width=\"24px\">\n",
              "    <g>\n",
              "        <path d=\"M19 3H5c-1.1 0-2 .9-2 2v14c0 1.1.9 2 2 2h14c1.1 0 2-.9 2-2V5c0-1.1-.9-2-2-2zM9 17H7v-7h2v7zm4 0h-2V7h2v10zm4 0h-2v-4h2v4z\"/>\n",
              "    </g>\n",
              "</svg>\n",
              "      </button>\n",
              "    </div>\n",
              "\n",
              "<style>\n",
              "  .colab-df-quickchart {\n",
              "    background-color: #E8F0FE;\n",
              "    border: none;\n",
              "    border-radius: 50%;\n",
              "    cursor: pointer;\n",
              "    display: none;\n",
              "    fill: #1967D2;\n",
              "    height: 32px;\n",
              "    padding: 0 0 0 0;\n",
              "    width: 32px;\n",
              "  }\n",
              "\n",
              "  .colab-df-quickchart:hover {\n",
              "    background-color: #E2EBFA;\n",
              "    box-shadow: 0px 1px 2px rgba(60, 64, 67, 0.3), 0px 1px 3px 1px rgba(60, 64, 67, 0.15);\n",
              "    fill: #174EA6;\n",
              "  }\n",
              "\n",
              "  [theme=dark] .colab-df-quickchart {\n",
              "    background-color: #3B4455;\n",
              "    fill: #D2E3FC;\n",
              "  }\n",
              "\n",
              "  [theme=dark] .colab-df-quickchart:hover {\n",
              "    background-color: #434B5C;\n",
              "    box-shadow: 0px 1px 3px 1px rgba(0, 0, 0, 0.15);\n",
              "    filter: drop-shadow(0px 1px 2px rgba(0, 0, 0, 0.3));\n",
              "    fill: #FFFFFF;\n",
              "  }\n",
              "</style>\n",
              "\n",
              "    <script>\n",
              "      async function quickchart(key) {\n",
              "        const containerElement = document.querySelector('#' + key);\n",
              "        const charts = await google.colab.kernel.invokeFunction(\n",
              "            'suggestCharts', [key], {});\n",
              "      }\n",
              "    </script>\n",
              "\n",
              "      <script>\n",
              "\n",
              "function displayQuickchartButton(domScope) {\n",
              "  let quickchartButtonEl =\n",
              "    domScope.querySelector('#df-50e43e1b-fb8a-4568-ac62-e4a25034c4f0 button.colab-df-quickchart');\n",
              "  quickchartButtonEl.style.display =\n",
              "    google.colab.kernel.accessAllowed ? 'block' : 'none';\n",
              "}\n",
              "\n",
              "        displayQuickchartButton(document);\n",
              "      </script>\n",
              "      <style>\n",
              "    .colab-df-container {\n",
              "      display:flex;\n",
              "      flex-wrap:wrap;\n",
              "      gap: 12px;\n",
              "    }\n",
              "\n",
              "    .colab-df-convert {\n",
              "      background-color: #E8F0FE;\n",
              "      border: none;\n",
              "      border-radius: 50%;\n",
              "      cursor: pointer;\n",
              "      display: none;\n",
              "      fill: #1967D2;\n",
              "      height: 32px;\n",
              "      padding: 0 0 0 0;\n",
              "      width: 32px;\n",
              "    }\n",
              "\n",
              "    .colab-df-convert:hover {\n",
              "      background-color: #E2EBFA;\n",
              "      box-shadow: 0px 1px 2px rgba(60, 64, 67, 0.3), 0px 1px 3px 1px rgba(60, 64, 67, 0.15);\n",
              "      fill: #174EA6;\n",
              "    }\n",
              "\n",
              "    [theme=dark] .colab-df-convert {\n",
              "      background-color: #3B4455;\n",
              "      fill: #D2E3FC;\n",
              "    }\n",
              "\n",
              "    [theme=dark] .colab-df-convert:hover {\n",
              "      background-color: #434B5C;\n",
              "      box-shadow: 0px 1px 3px 1px rgba(0, 0, 0, 0.15);\n",
              "      filter: drop-shadow(0px 1px 2px rgba(0, 0, 0, 0.3));\n",
              "      fill: #FFFFFF;\n",
              "    }\n",
              "  </style>\n",
              "\n",
              "      <script>\n",
              "        const buttonEl =\n",
              "          document.querySelector('#df-00d4c2a5-439d-47ee-a191-8f8a67dcec77 button.colab-df-convert');\n",
              "        buttonEl.style.display =\n",
              "          google.colab.kernel.accessAllowed ? 'block' : 'none';\n",
              "\n",
              "        async function convertToInteractive(key) {\n",
              "          const element = document.querySelector('#df-00d4c2a5-439d-47ee-a191-8f8a67dcec77');\n",
              "          const dataTable =\n",
              "            await google.colab.kernel.invokeFunction('convertToInteractive',\n",
              "                                                     [key], {});\n",
              "          if (!dataTable) return;\n",
              "\n",
              "          const docLinkHtml = 'Like what you see? Visit the ' +\n",
              "            '<a target=\"_blank\" href=https://colab.research.google.com/notebooks/data_table.ipynb>data table notebook</a>'\n",
              "            + ' to learn more about interactive tables.';\n",
              "          element.innerHTML = '';\n",
              "          dataTable['output_type'] = 'display_data';\n",
              "          await google.colab.output.renderOutput(dataTable, element);\n",
              "          const docLink = document.createElement('div');\n",
              "          docLink.innerHTML = docLinkHtml;\n",
              "          element.appendChild(docLink);\n",
              "        }\n",
              "      </script>\n",
              "    </div>\n",
              "  </div>\n"
            ]
          },
          "metadata": {},
          "execution_count": 32
        }
      ]
    },
    {
      "cell_type": "code",
      "source": [
        "X = X.astype('float64')\n",
        "y = y.astype('float64')"
      ],
      "metadata": {
        "id": "R_iLgRIX3uzG"
      },
      "execution_count": 33,
      "outputs": []
    },
    {
      "cell_type": "code",
      "source": [
        "X_train, X_test, y_train, y_test = train_test_split(X, y, test_size = 0.3, random_state = 3, stratify= y)"
      ],
      "metadata": {
        "id": "Q1HTnkEf23a5"
      },
      "execution_count": 34,
      "outputs": []
    },
    {
      "cell_type": "code",
      "source": [
        "X_train, X_vali, y_train, y_vali = train_test_split(X_train, y_train, test_size = 0.25, random_state = 3, stratify = y_train)"
      ],
      "metadata": {
        "id": "u8kVzw7k26cG"
      },
      "execution_count": 35,
      "outputs": []
    },
    {
      "cell_type": "code",
      "source": [
        "print(y_train.value_counts())\n",
        "print(y_vali.value_counts())\n",
        "print(y_test.value_counts())"
      ],
      "metadata": {
        "colab": {
          "base_uri": "https://localhost:8080/"
        },
        "id": "6ORMIt9C28ne",
        "outputId": "1c6f7416-41b1-40a6-a980-e908c00479ca"
      },
      "execution_count": 36,
      "outputs": [
        {
          "output_type": "stream",
          "name": "stdout",
          "text": [
            "0.0    359\n",
            "1.0    139\n",
            "Name: Diabetic, dtype: int64\n",
            "0.0    120\n",
            "1.0     47\n",
            "Name: Diabetic, dtype: int64\n",
            "0.0    205\n",
            "1.0     80\n",
            "Name: Diabetic, dtype: int64\n"
          ]
        }
      ]
    },
    {
      "cell_type": "code",
      "source": [
        "def smote_data(X, y):\n",
        "    smotenc = SMOTENC(random_state = 123, categorical_features = list(range(0, 16)), n_jobs=-1)\n",
        "    X_smote, y_smote = smotenc.fit_resample(X, y)\n",
        "    return X_smote, y_smote"
      ],
      "metadata": {
        "id": "TVTiNqwc3fK-"
      },
      "execution_count": 37,
      "outputs": []
    },
    {
      "cell_type": "code",
      "source": [
        "X_train_smote, y_train_smote = smote_data(X_train, y_train)\n",
        "X_test_smote, y_test_smote = smote_data(X_test, y_test)"
      ],
      "metadata": {
        "id": "UlKrsuqp38M4",
        "colab": {
          "base_uri": "https://localhost:8080/"
        },
        "outputId": "f7c3eea4-575d-42eb-84d0-7832f50c4312"
      },
      "execution_count": 38,
      "outputs": [
        {
          "output_type": "stream",
          "name": "stderr",
          "text": [
            "Exception ignored on calling ctypes callback function: <function ThreadpoolController._find_libraries_with_dl_iterate_phdr.<locals>.match_library_callback at 0x7d5b49502d40>\n",
            "Traceback (most recent call last):\n",
            "  File \"/usr/local/lib/python3.10/dist-packages/threadpoolctl.py\", line 584, in match_library_callback\n",
            "    self._make_controller_from_path(filepath)\n",
            "  File \"/usr/local/lib/python3.10/dist-packages/threadpoolctl.py\", line 725, in _make_controller_from_path\n",
            "    lib_controller = lib_controller_class(\n",
            "  File \"/usr/local/lib/python3.10/dist-packages/threadpoolctl.py\", line 810, in __init__\n",
            "    self._dynlib = ctypes.CDLL(filepath, mode=_RTLD_NOLOAD)\n",
            "  File \"/usr/lib/python3.10/ctypes/__init__.py\", line 374, in __init__\n",
            "    self._handle = _dlopen(self._name, mode)\n",
            "OSError: dlopen() error\n"
          ]
        }
      ]
    },
    {
      "cell_type": "code",
      "source": [
        "print(y_train_smote.value_counts())\n",
        "print(y_test_smote.value_counts())"
      ],
      "metadata": {
        "colab": {
          "base_uri": "https://localhost:8080/"
        },
        "id": "IoqtE1l04JY5",
        "outputId": "6a2e7ada-5f1e-4c2e-df46-e8fac3ec4c55"
      },
      "execution_count": 40,
      "outputs": [
        {
          "output_type": "stream",
          "name": "stdout",
          "text": [
            "0.0    359\n",
            "1.0    359\n",
            "Name: Diabetic, dtype: int64\n",
            "0.0    205\n",
            "1.0    205\n",
            "Name: Diabetic, dtype: int64\n"
          ]
        }
      ]
    },
    {
      "cell_type": "code",
      "source": [
        "def grid_search(X_tr, X_te, y_tr, y_te, model, params, scoring='recall'):\n",
        "    gs = GridSearchCV(estimator = model, param_grid = params, scoring = scoring, n_jobs=-1, cv=3)\n",
        "    gs.fit(X_tr, y_tr)\n",
        "    y_pred = gs.predict(X_te)\n",
        "    print(f\"{model}\")\n",
        "    print(f\"Best parameter      : {gs.best_params_}\")\n",
        "    print(f\"Test Accuracy Score : {accuracy_score(y_te, y_pred)}\")\n",
        "    print(f\"Train Accuracy Score: {accuracy_score(y_tr, gs.predict(X_tr))}\")\n",
        "    print(f\"Recall score        : {recall_score(y_te, y_pred)}\")\n",
        "    print(f\"Classification Report \\n{'-'*30}\\n {classification_report(y_te, y_pred)}\")\n",
        "    return gs.best_params_"
      ],
      "metadata": {
        "id": "Mxq6s1Tb4OLr"
      },
      "execution_count": 41,
      "outputs": []
    },
    {
      "cell_type": "code",
      "source": [
        "params = {\n",
        "    'C' : [0.00001, 0.0001, 0.001, 0.01, 0.1, 1, 10],\n",
        "    'penalty' : ['l1', 'l2', 'elasticnet', 'none']\n",
        "}\n",
        "model = LogisticRegression(max_iter=500)\n",
        "lr_best = grid_search(X_train_smote, X_test, y_train_smote, y_test, model, params, scoring='accuracy')"
      ],
      "metadata": {
        "colab": {
          "base_uri": "https://localhost:8080/"
        },
        "id": "I8jHH0E94Vr8",
        "outputId": "1a9bfbd8-ea9c-4b63-e438-1f0ffee5a681"
      },
      "execution_count": 42,
      "outputs": [
        {
          "output_type": "stream",
          "name": "stdout",
          "text": [
            "LogisticRegression(max_iter=500)\n",
            "Best parameter      : {'C': 1e-05, 'penalty': 'none'}\n",
            "Test Accuracy Score : 0.8526315789473684\n",
            "Train Accuracy Score: 0.8969359331476323\n",
            "Recall score        : 0.8625\n",
            "Classification Report \n",
            "------------------------------\n",
            "               precision    recall  f1-score   support\n",
            "\n",
            "         0.0       0.94      0.85      0.89       205\n",
            "         1.0       0.69      0.86      0.77        80\n",
            "\n",
            "    accuracy                           0.85       285\n",
            "   macro avg       0.82      0.86      0.83       285\n",
            "weighted avg       0.87      0.85      0.86       285\n",
            "\n"
          ]
        }
      ]
    },
    {
      "cell_type": "code",
      "source": [
        "ada = AdaBoostClassifier()\n",
        "params = {\n",
        "    'n_estimators' : [100,200, 300, 400],\n",
        "    'learning_rate' : [0.0001, 0.001,0.1,1,10]\n",
        "}\n",
        "ada_best = grid_search(X_train_smote, X_test, y_train_smote, y_test, ada, params, scoring='accuracy')"
      ],
      "metadata": {
        "colab": {
          "base_uri": "https://localhost:8080/"
        },
        "id": "5-L7KLWe6HBD",
        "outputId": "a7592e13-0277-42a8-90ad-583ce577cc8b"
      },
      "execution_count": 43,
      "outputs": [
        {
          "output_type": "stream",
          "name": "stdout",
          "text": [
            "AdaBoostClassifier()\n",
            "Best parameter      : {'learning_rate': 0.1, 'n_estimators': 200}\n",
            "Test Accuracy Score : 0.8771929824561403\n",
            "Train Accuracy Score: 0.9052924791086351\n",
            "Recall score        : 0.8875\n",
            "Classification Report \n",
            "------------------------------\n",
            "               precision    recall  f1-score   support\n",
            "\n",
            "         0.0       0.95      0.87      0.91       205\n",
            "         1.0       0.73      0.89      0.80        80\n",
            "\n",
            "    accuracy                           0.88       285\n",
            "   macro avg       0.84      0.88      0.86       285\n",
            "weighted avg       0.89      0.88      0.88       285\n",
            "\n"
          ]
        }
      ]
    },
    {
      "cell_type": "code",
      "source": [
        "params = {\n",
        "    'n_estimators':[100, 200, 300, 400, 500, 600],\n",
        "    'criterion' : ['gini', 'entropy'],\n",
        "    'max_depth' : [5, 10, 15, 20],\n",
        "}\n",
        "model = RandomForestClassifier(random_state=123)\n",
        "rf_best = grid_search(X_train_smote, X_test, y_train_smote, y_test, model, params, scoring='accuracy')\n",
        "# best_params, y_pred = grid_search(X_train, X_test, y_train, y_test, model, params, scoring='accuracy')"
      ],
      "metadata": {
        "colab": {
          "base_uri": "https://localhost:8080/"
        },
        "id": "W88exHuz6Wu_",
        "outputId": "84d123e8-f736-438c-8f61-2f35fc884f67"
      },
      "execution_count": 44,
      "outputs": [
        {
          "output_type": "stream",
          "name": "stdout",
          "text": [
            "RandomForestClassifier(random_state=123)\n",
            "Best parameter      : {'criterion': 'gini', 'max_depth': 10, 'n_estimators': 100}\n",
            "Test Accuracy Score : 0.9333333333333333\n",
            "Train Accuracy Score: 0.9832869080779945\n",
            "Recall score        : 0.8875\n",
            "Classification Report \n",
            "------------------------------\n",
            "               precision    recall  f1-score   support\n",
            "\n",
            "         0.0       0.96      0.95      0.95       205\n",
            "         1.0       0.88      0.89      0.88        80\n",
            "\n",
            "    accuracy                           0.93       285\n",
            "   macro avg       0.92      0.92      0.92       285\n",
            "weighted avg       0.93      0.93      0.93       285\n",
            "\n"
          ]
        }
      ]
    },
    {
      "cell_type": "code",
      "source": [
        "model = SVC(random_state=123)\n",
        "params = {\n",
        "    'C' : [0.001, 0.01, 0.1, 1, 10],\n",
        "    'kernel' : ['linear', 'poly', 'rbf', 'sigmoid'],\n",
        "    'degree' : [2, 3, 4, 5]\n",
        "}\n",
        "svc_best = grid_search(X_train_smote, X_test, y_train_smote, y_test, model, params, scoring='accuracy')\n",
        "\n"
      ],
      "metadata": {
        "colab": {
          "base_uri": "https://localhost:8080/"
        },
        "id": "9dK9mSmY62tp",
        "outputId": "2aac848f-14a9-4348-c439-9335246834e0"
      },
      "execution_count": 45,
      "outputs": [
        {
          "output_type": "stream",
          "name": "stdout",
          "text": [
            "SVC(random_state=123)\n",
            "Best parameter      : {'C': 0.1, 'degree': 2, 'kernel': 'linear'}\n",
            "Test Accuracy Score : 0.856140350877193\n",
            "Train Accuracy Score: 0.8969359331476323\n",
            "Recall score        : 0.8875\n",
            "Classification Report \n",
            "------------------------------\n",
            "               precision    recall  f1-score   support\n",
            "\n",
            "         0.0       0.95      0.84      0.89       205\n",
            "         1.0       0.69      0.89      0.78        80\n",
            "\n",
            "    accuracy                           0.86       285\n",
            "   macro avg       0.82      0.87      0.84       285\n",
            "weighted avg       0.88      0.86      0.86       285\n",
            "\n"
          ]
        }
      ]
    },
    {
      "cell_type": "code",
      "source": [
        "# model_lr = LogisticRegression(C=lr_best['C'], penalty=lr_best['penalty'], random_state=123)\n",
        "# y_scores_lr = cross_val_predict(model_lr, X_train_smote, y_train_smote, cv=5, method='predict_proba')\n",
        "\n",
        "model_ada = AdaBoostClassifier(n_estimators=ada_best['n_estimators'], learning_rate=ada_best['learning_rate'], random_state=123)\n",
        "y_scores_ada = cross_val_predict(model_ada, X_train_smote, y_train_smote, cv=5, method='predict_proba')\n",
        "\n",
        "model_rf = RandomForestClassifier(n_estimators=rf_best['n_estimators'], criterion=rf_best['criterion'], max_depth=rf_best['max_depth'],\n",
        "                                  random_state=123)\n",
        "y_scores_rf = cross_val_predict(model_rf, X_train_smote, y_train_smote, cv=5, method='predict_proba')\n",
        "\n",
        "\n",
        "model_svc = SVC(C=svc_best['C'], degree=svc_best['degree'], kernel=svc_best['kernel'], probability=True)\n",
        "y_scores_svc = cross_val_predict(model_svc, X_train_smote, y_train_smote, cv=5, method='predict_proba')\n",
        "\n",
        "y_scores = [y_scores_ada, y_scores_rf, y_scores_svc]\n",
        "model_names = ['AdaBoost Classification', 'Random Forest Classification', 'Support Vector Classifier']"
      ],
      "metadata": {
        "id": "Uxs0dSNi67_u"
      },
      "execution_count": 47,
      "outputs": []
    },
    {
      "cell_type": "code",
      "source": [
        "plt.figure(figsize=(7,7))\n",
        "for score, name in zip(y_scores, model_names):\n",
        "    roc_score = roc_auc_score(y_train_smote, score[:, 1])\n",
        "    fpr, tpr, threshold = roc_curve(y_train_smote, score[:, 1])\n",
        "    plt.plot(fpr, tpr, label=f\"{name} : {round(roc_score, 3)}\")\n",
        "plt.legend()\n",
        "plt.plot([0,1],[0,1], '--', linewidth=2)\n",
        "plt.xlabel('False Positive Rate')\n",
        "plt.ylabel('True Positive Rate')\n",
        "plt.title('Сравниваем AUC-ROC трех моделей');"
      ],
      "metadata": {
        "colab": {
          "base_uri": "https://localhost:8080/",
          "height": 686
        },
        "id": "UlwfCrRD7F5U",
        "outputId": "895a9964-c9e6-4bf7-8936-87652a608b3e"
      },
      "execution_count": 61,
      "outputs": [
        {
          "output_type": "display_data",
          "data": {
            "text/plain": [
              "<Figure size 700x700 with 1 Axes>"
            ],
            "image/png": "[encoded data removed]"
          },
          "metadata": {}
        }
      ]
    },
    {
      "cell_type": "code",
      "source": [
        "rf = RandomForestClassifier(n_estimators=rf_best['n_estimators'], criterion=rf_best['criterion'], max_depth=rf_best['max_depth'],\n",
        "                                  random_state=123)\n",
        "rf.fit(X_train_smote, y_train_smote)"
      ],
      "metadata": {
        "colab": {
          "base_uri": "https://localhost:8080/",
          "height": 75
        },
        "id": "p67RyPCq7LPT",
        "outputId": "9c44db3a-450f-4c74-fadf-54f61b3844b1"
      },
      "execution_count": 53,
      "outputs": [
        {
          "output_type": "execute_result",
          "data": {
            "text/plain": [
              "RandomForestClassifier(max_depth=10, random_state=123)"
            ],
            "text/html": [
              "<style>#sk-container-id-1 {color: black;background-color: white;}#sk-container-id-1 pre{padding: 0;}#sk-container-id-1 div.sk-toggleable {background-color: white;}#sk-container-id-1 label.sk-toggleable__label {cursor: pointer;display: block;width: 100%;margin-bottom: 0;padding: 0.3em;box-sizing: border-box;text-align: center;}#sk-container-id-1 label.sk-toggleable__label-arrow:before {content: \"▸\";float: left;margin-right: 0.25em;color: #696969;}#sk-container-id-1 label.sk-toggleable__label-arrow:hover:before {color: black;}#sk-container-id-1 div.sk-estimator:hover label.sk-toggleable__label-arrow:before {color: black;}#sk-container-id-1 div.sk-toggleable__content {max-height: 0;max-width: 0;overflow: hidden;text-align: left;background-color: #f0f8ff;}#sk-container-id-1 div.sk-toggleable__content pre {margin: 0.2em;color: black;border-radius: 0.25em;background-color: #f0f8ff;}#sk-container-id-1 input.sk-toggleable__control:checked~div.sk-toggleable__content {max-height: 200px;max-width: 100%;overflow: auto;}#sk-container-id-1 input.sk-toggleable__control:checked~label.sk-toggleable__label-arrow:before {content: \"▾\";}#sk-container-id-1 div.sk-estimator input.sk-toggleable__control:checked~label.sk-toggleable__label {background-color: #d4ebff;}#sk-container-id-1 div.sk-label input.sk-toggleable__control:checked~label.sk-toggleable__label {background-color: #d4ebff;}#sk-container-id-1 input.sk-hidden--visually {border: 0;clip: rect(1px 1px 1px 1px);clip: rect(1px, 1px, 1px, 1px);height: 1px;margin: -1px;overflow: hidden;padding: 0;position: absolute;width: 1px;}#sk-container-id-1 div.sk-estimator {font-family: monospace;background-color: #f0f8ff;border: 1px dotted black;border-radius: 0.25em;box-sizing: border-box;margin-bottom: 0.5em;}#sk-container-id-1 div.sk-estimator:hover {background-color: #d4ebff;}#sk-container-id-1 div.sk-parallel-item::after {content: \"\";width: 100%;border-bottom: 1px solid gray;flex-grow: 1;}#sk-container-id-1 div.sk-label:hover label.sk-toggleable__label {background-color: #d4ebff;}#sk-container-id-1 div.sk-serial::before {content: \"\";position: absolute;border-left: 1px solid gray;box-sizing: border-box;top: 0;bottom: 0;left: 50%;z-index: 0;}#sk-container-id-1 div.sk-serial {display: flex;flex-direction: column;align-items: center;background-color: white;padding-right: 0.2em;padding-left: 0.2em;position: relative;}#sk-container-id-1 div.sk-item {position: relative;z-index: 1;}#sk-container-id-1 div.sk-parallel {display: flex;align-items: stretch;justify-content: center;background-color: white;position: relative;}#sk-container-id-1 div.sk-item::before, #sk-container-id-1 div.sk-parallel-item::before {content: \"\";position: absolute;border-left: 1px solid gray;box-sizing: border-box;top: 0;bottom: 0;left: 50%;z-index: -1;}#sk-container-id-1 div.sk-parallel-item {display: flex;flex-direction: column;z-index: 1;position: relative;background-color: white;}#sk-container-id-1 div.sk-parallel-item:first-child::after {align-self: flex-end;width: 50%;}#sk-container-id-1 div.sk-parallel-item:last-child::after {align-self: flex-start;width: 50%;}#sk-container-id-1 div.sk-parallel-item:only-child::after {width: 0;}#sk-container-id-1 div.sk-dashed-wrapped {border: 1px dashed gray;margin: 0 0.4em 0.5em 0.4em;box-sizing: border-box;padding-bottom: 0.4em;background-color: white;}#sk-container-id-1 div.sk-label label {font-family: monospace;font-weight: bold;display: inline-block;line-height: 1.2em;}#sk-container-id-1 div.sk-label-container {text-align: center;}#sk-container-id-1 div.sk-container {/* jupyter's `normalize.less` sets `[hidden] { display: none; }` but bootstrap.min.css set `[hidden] { display: none !important; }` so we also need the `!important` here to be able to override the default hidden behavior on the sphinx rendered scikit-learn.org. See: https://github.com/scikit-learn/scikit-learn/issues/21755 */display: inline-block !important;position: relative;}#sk-container-id-1 div.sk-text-repr-fallback {display: none;}</style><div id=\"sk-container-id-1\" class=\"sk-top-container\"><div class=\"sk-text-repr-fallback\"><pre>RandomForestClassifier(max_depth=10, random_state=123)</pre><b>In a Jupyter environment, please rerun this cell to show the HTML representation or trust the notebook. <br />On GitHub, the HTML representation is unable to render, please try loading this page with nbviewer.org.</b></div><div class=\"sk-container\" hidden><div class=\"sk-item\"><div class=\"sk-estimator sk-toggleable\"><input class=\"sk-toggleable__control sk-hidden--visually\" id=\"sk-estimator-id-1\" type=\"checkbox\" checked><label for=\"sk-estimator-id-1\" class=\"sk-toggleable__label sk-toggleable__label-arrow\">RandomForestClassifier</label><div class=\"sk-toggleable__content\"><pre>RandomForestClassifier(max_depth=10, random_state=123)</pre></div></div></div></div></div>"
            ]
          },
          "metadata": {},
          "execution_count": 53
        }
      ]
    },
    {
      "cell_type": "markdown",
      "source": [
        "Сохраняем лучшую модель."
      ],
      "metadata": {
        "id": "K_ethzGfT8RN"
      }
    },
    {
      "cell_type": "code",
      "source": [
        "features = pd.Series(rf.feature_importances_, index=X_train_smote.columns).sort_values(ascending=False)\n",
        "plt.figure(figsize=(6, 8))\n",
        "sns.barplot(x=features, y=features.index)\n",
        "plt.title(\"Important features according to Random Forest\");"
      ],
      "metadata": {
        "colab": {
          "base_uri": "https://localhost:8080/",
          "height": 739
        },
        "id": "OykBgGWKYr1P",
        "outputId": "5d3bd369-2a1a-4eb7-f086-6b8de8a2243b"
      },
      "execution_count": 56,
      "outputs": [
        {
          "output_type": "display_data",
          "data": {
            "text/plain": [
              "<Figure size 600x800 with 1 Axes>"
            ],
            "image/png": "[encoded data removed]"
          },
          "metadata": {}
        }
      ]
    },
    {
      "cell_type": "code",
      "source": [
        "# Предполагая, что у вас есть модель с именем model\n",
        "model.fit(X_train, y_train)\n",
        "\n",
        "# Сохранение модели\n",
        "joblib.dump(model, '/content/drive/MyDrive/preddd/model_4.joblib')\n",
        "\n",
        "# Загрузка модели\n",
        "loaded_model = joblib.load('/content/drive/MyDrive/preddd/model_4.joblib')"
      ],
      "metadata": {
        "id": "c5_E_k0lVXmu"
      },
      "execution_count": null,
      "outputs": []
    }
  ]
}